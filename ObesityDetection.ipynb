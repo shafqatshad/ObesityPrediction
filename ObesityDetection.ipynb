{
 "cells": [
  {
   "cell_type": "code",
   "execution_count": 80,
   "metadata": {},
   "outputs": [
    {
     "data": {
      "text/html": [
       "<div>\n",
       "<style scoped>\n",
       "    .dataframe tbody tr th:only-of-type {\n",
       "        vertical-align: middle;\n",
       "    }\n",
       "\n",
       "    .dataframe tbody tr th {\n",
       "        vertical-align: top;\n",
       "    }\n",
       "\n",
       "    .dataframe thead th {\n",
       "        text-align: right;\n",
       "    }\n",
       "</style>\n",
       "<table border=\"1\" class=\"dataframe\">\n",
       "  <thead>\n",
       "    <tr style=\"text-align: right;\">\n",
       "      <th></th>\n",
       "      <th>Gender</th>\n",
       "      <th>Age</th>\n",
       "      <th>Height</th>\n",
       "      <th>Weight</th>\n",
       "      <th>family_history_with_overweight</th>\n",
       "      <th>FAVC</th>\n",
       "      <th>FCVC</th>\n",
       "      <th>NCP</th>\n",
       "      <th>CAEC</th>\n",
       "      <th>SMOKE</th>\n",
       "      <th>CH2O</th>\n",
       "      <th>SCC</th>\n",
       "      <th>FAF</th>\n",
       "      <th>TUE</th>\n",
       "      <th>CALC</th>\n",
       "      <th>MTRANS</th>\n",
       "      <th>NObeyesdad</th>\n",
       "    </tr>\n",
       "  </thead>\n",
       "  <tbody>\n",
       "    <tr>\n",
       "      <th>0</th>\n",
       "      <td>Female</td>\n",
       "      <td>21.0</td>\n",
       "      <td>1.62</td>\n",
       "      <td>64.0</td>\n",
       "      <td>yes</td>\n",
       "      <td>no</td>\n",
       "      <td>2.0</td>\n",
       "      <td>3.0</td>\n",
       "      <td>Sometimes</td>\n",
       "      <td>no</td>\n",
       "      <td>2.0</td>\n",
       "      <td>no</td>\n",
       "      <td>0.0</td>\n",
       "      <td>1.0</td>\n",
       "      <td>no</td>\n",
       "      <td>Public_Transportation</td>\n",
       "      <td>Normal_Weight</td>\n",
       "    </tr>\n",
       "    <tr>\n",
       "      <th>1</th>\n",
       "      <td>Female</td>\n",
       "      <td>21.0</td>\n",
       "      <td>1.52</td>\n",
       "      <td>56.0</td>\n",
       "      <td>yes</td>\n",
       "      <td>no</td>\n",
       "      <td>3.0</td>\n",
       "      <td>3.0</td>\n",
       "      <td>Sometimes</td>\n",
       "      <td>yes</td>\n",
       "      <td>3.0</td>\n",
       "      <td>yes</td>\n",
       "      <td>3.0</td>\n",
       "      <td>0.0</td>\n",
       "      <td>Sometimes</td>\n",
       "      <td>Public_Transportation</td>\n",
       "      <td>Normal_Weight</td>\n",
       "    </tr>\n",
       "    <tr>\n",
       "      <th>2</th>\n",
       "      <td>Male</td>\n",
       "      <td>23.0</td>\n",
       "      <td>1.80</td>\n",
       "      <td>77.0</td>\n",
       "      <td>yes</td>\n",
       "      <td>no</td>\n",
       "      <td>2.0</td>\n",
       "      <td>3.0</td>\n",
       "      <td>Sometimes</td>\n",
       "      <td>no</td>\n",
       "      <td>2.0</td>\n",
       "      <td>no</td>\n",
       "      <td>2.0</td>\n",
       "      <td>1.0</td>\n",
       "      <td>Frequently</td>\n",
       "      <td>Public_Transportation</td>\n",
       "      <td>Normal_Weight</td>\n",
       "    </tr>\n",
       "    <tr>\n",
       "      <th>3</th>\n",
       "      <td>Male</td>\n",
       "      <td>27.0</td>\n",
       "      <td>1.80</td>\n",
       "      <td>87.0</td>\n",
       "      <td>no</td>\n",
       "      <td>no</td>\n",
       "      <td>3.0</td>\n",
       "      <td>3.0</td>\n",
       "      <td>Sometimes</td>\n",
       "      <td>no</td>\n",
       "      <td>2.0</td>\n",
       "      <td>no</td>\n",
       "      <td>2.0</td>\n",
       "      <td>0.0</td>\n",
       "      <td>Frequently</td>\n",
       "      <td>Walking</td>\n",
       "      <td>Overweight_Level_I</td>\n",
       "    </tr>\n",
       "    <tr>\n",
       "      <th>4</th>\n",
       "      <td>Male</td>\n",
       "      <td>22.0</td>\n",
       "      <td>1.78</td>\n",
       "      <td>89.8</td>\n",
       "      <td>no</td>\n",
       "      <td>no</td>\n",
       "      <td>2.0</td>\n",
       "      <td>1.0</td>\n",
       "      <td>Sometimes</td>\n",
       "      <td>no</td>\n",
       "      <td>2.0</td>\n",
       "      <td>no</td>\n",
       "      <td>0.0</td>\n",
       "      <td>0.0</td>\n",
       "      <td>Sometimes</td>\n",
       "      <td>Public_Transportation</td>\n",
       "      <td>Overweight_Level_II</td>\n",
       "    </tr>\n",
       "  </tbody>\n",
       "</table>\n",
       "</div>"
      ],
      "text/plain": [
       "   Gender   Age  Height  Weight family_history_with_overweight FAVC  FCVC  \\\n",
       "0  Female  21.0    1.62    64.0                            yes   no   2.0   \n",
       "1  Female  21.0    1.52    56.0                            yes   no   3.0   \n",
       "2    Male  23.0    1.80    77.0                            yes   no   2.0   \n",
       "3    Male  27.0    1.80    87.0                             no   no   3.0   \n",
       "4    Male  22.0    1.78    89.8                             no   no   2.0   \n",
       "\n",
       "   NCP       CAEC SMOKE  CH2O  SCC  FAF  TUE        CALC  \\\n",
       "0  3.0  Sometimes    no   2.0   no  0.0  1.0          no   \n",
       "1  3.0  Sometimes   yes   3.0  yes  3.0  0.0   Sometimes   \n",
       "2  3.0  Sometimes    no   2.0   no  2.0  1.0  Frequently   \n",
       "3  3.0  Sometimes    no   2.0   no  2.0  0.0  Frequently   \n",
       "4  1.0  Sometimes    no   2.0   no  0.0  0.0   Sometimes   \n",
       "\n",
       "                  MTRANS           NObeyesdad  \n",
       "0  Public_Transportation        Normal_Weight  \n",
       "1  Public_Transportation        Normal_Weight  \n",
       "2  Public_Transportation        Normal_Weight  \n",
       "3                Walking   Overweight_Level_I  \n",
       "4  Public_Transportation  Overweight_Level_II  "
      ]
     },
     "execution_count": 80,
     "metadata": {},
     "output_type": "execute_result"
    }
   ],
   "source": [
    "\n",
    "import types\n",
    "import pandas as pd\n",
    "import numpy as np\n",
    "from botocore.client import Config\n",
    "import ibm_boto3\n",
    "import seaborn as sb\n",
    "import statsmodels.api as sm\n",
    "from statsmodels.formula.api import ols\n",
    "\n",
    "\n",
    "def __iter__(self): return 0\n",
    "\n",
    "# @hidden_cell\n",
    "# The following code accesses a file in your IBM Cloud Object Storage. It includes your credentials.\n",
    "# You might want to remove those credentials before you share the notebook.\n",
    "client_6966c67d5a0f4111a5fc3fef91d0be04 = ibm_boto3.client(service_name='s3',\n",
    "    ibm_api_key_id='7OLR7oofr_cjr8H6ZSxPWWt7gGO-iZ-XfNXBHDh4V0wI',\n",
    "    ibm_auth_endpoint=\"https://iam.cloud.ibm.com/oidc/token\",\n",
    "    config=Config(signature_version='oauth'),\n",
    "    endpoint_url='https://s3-api.us-geo.objectstorage.service.networklayer.com')\n",
    "\n",
    "body = client_6966c67d5a0f4111a5fc3fef91d0be04.get_object(Bucket='ds320project1-donotdelete-pr-za1fxqljqqzmub',Key='ObesityDataSet_raw_and_data_sinthetic.csv')['Body']\n",
    "# add missing __iter__ method, so pandas accepts body as file-like object\n",
    "if not hasattr(body, \"__iter__\"): body.__iter__ = types.MethodType( __iter__, body )\n",
    "    \n",
    "#Dataset (UCI Machine Learning Repository):\n",
    "#https://archive.ics.uci.edu/ml/datasets/Estimation+of+obesity+levels+based+on+eating+habits+and+physical+condition+ \n",
    "\n",
    "#Attributes information: https://www.sciencedirect.com/science/article/pii/S2352340919306985#kwrds0010\n",
    "\n",
    "#Eating habits are:\n",
    " #Frequent consumption of high caloric food (FAVC)\n",
    " #Frequency of consumption of vegetables (FCVC) \n",
    " #Number of main meals (NCP)\n",
    " #Consumption of food between meals (CAEC)\n",
    " #Consumption of water daily (CH20)\n",
    " #Consumption of alcohol (CALC).\n",
    "\n",
    "#Physical condition are:\n",
    " #Calories consumption monitoring (SCC)\n",
    " #Physical activity frequency (FAF)\n",
    " #Time using technology devices (TUE)\n",
    " #Transportation used (MTRANS)\n",
    "\n",
    "#Other variables :\n",
    " #Gender, Age, Height and Weight.\n",
    "\n",
    "\n",
    "obesity = pd.read_csv(body)\n",
    "obesity.head()\n"
   ]
  },
  {
   "cell_type": "code",
   "execution_count": 2,
   "metadata": {},
   "outputs": [
    {
     "name": "stdout",
     "output_type": "stream",
     "text": [
      "<class 'pandas.core.frame.DataFrame'>\n",
      "RangeIndex: 2111 entries, 0 to 2110\n",
      "Data columns (total 17 columns):\n",
      " #   Column                          Non-Null Count  Dtype  \n",
      "---  ------                          --------------  -----  \n",
      " 0   Gender                          2111 non-null   object \n",
      " 1   Age                             2111 non-null   float64\n",
      " 2   Height                          2111 non-null   float64\n",
      " 3   Weight                          2111 non-null   float64\n",
      " 4   family_history_with_overweight  2111 non-null   object \n",
      " 5   FAVC                            2111 non-null   object \n",
      " 6   FCVC                            2111 non-null   float64\n",
      " 7   NCP                             2111 non-null   float64\n",
      " 8   CAEC                            2111 non-null   object \n",
      " 9   SMOKE                           2111 non-null   object \n",
      " 10  CH2O                            2111 non-null   float64\n",
      " 11  SCC                             2111 non-null   object \n",
      " 12  FAF                             2111 non-null   float64\n",
      " 13  TUE                             2111 non-null   float64\n",
      " 14  CALC                            2111 non-null   object \n",
      " 15  MTRANS                          2111 non-null   object \n",
      " 16  NObeyesdad                      2111 non-null   object \n",
      "dtypes: float64(8), object(9)\n",
      "memory usage: 280.5+ KB\n"
     ]
    }
   ],
   "source": [
    "\n",
    "obesity.info() # is an  overview of the dataset's datatypes, number of columns and indexes.We can see that there are no missing values and that our data 16 columns are a mix of float (8)and object(9) columns."
   ]
  },
  {
   "cell_type": "code",
   "execution_count": 3,
   "metadata": {},
   "outputs": [
    {
     "data": {
      "text/html": [
       "<div>\n",
       "<style scoped>\n",
       "    .dataframe tbody tr th:only-of-type {\n",
       "        vertical-align: middle;\n",
       "    }\n",
       "\n",
       "    .dataframe tbody tr th {\n",
       "        vertical-align: top;\n",
       "    }\n",
       "\n",
       "    .dataframe thead th {\n",
       "        text-align: right;\n",
       "    }\n",
       "</style>\n",
       "<table border=\"1\" class=\"dataframe\">\n",
       "  <thead>\n",
       "    <tr style=\"text-align: right;\">\n",
       "      <th></th>\n",
       "      <th>Age</th>\n",
       "      <th>Height</th>\n",
       "      <th>Weight</th>\n",
       "      <th>FCVC</th>\n",
       "      <th>NCP</th>\n",
       "      <th>CH2O</th>\n",
       "      <th>FAF</th>\n",
       "      <th>TUE</th>\n",
       "    </tr>\n",
       "  </thead>\n",
       "  <tbody>\n",
       "    <tr>\n",
       "      <th>count</th>\n",
       "      <td>2111.000000</td>\n",
       "      <td>2111.000000</td>\n",
       "      <td>2111.000000</td>\n",
       "      <td>2111.000000</td>\n",
       "      <td>2111.000000</td>\n",
       "      <td>2111.000000</td>\n",
       "      <td>2111.000000</td>\n",
       "      <td>2111.000000</td>\n",
       "    </tr>\n",
       "    <tr>\n",
       "      <th>mean</th>\n",
       "      <td>24.312600</td>\n",
       "      <td>1.701677</td>\n",
       "      <td>86.586058</td>\n",
       "      <td>2.419043</td>\n",
       "      <td>2.685628</td>\n",
       "      <td>2.008011</td>\n",
       "      <td>1.010298</td>\n",
       "      <td>0.657866</td>\n",
       "    </tr>\n",
       "    <tr>\n",
       "      <th>std</th>\n",
       "      <td>6.345968</td>\n",
       "      <td>0.093305</td>\n",
       "      <td>26.191172</td>\n",
       "      <td>0.533927</td>\n",
       "      <td>0.778039</td>\n",
       "      <td>0.612953</td>\n",
       "      <td>0.850592</td>\n",
       "      <td>0.608927</td>\n",
       "    </tr>\n",
       "    <tr>\n",
       "      <th>min</th>\n",
       "      <td>14.000000</td>\n",
       "      <td>1.450000</td>\n",
       "      <td>39.000000</td>\n",
       "      <td>1.000000</td>\n",
       "      <td>1.000000</td>\n",
       "      <td>1.000000</td>\n",
       "      <td>0.000000</td>\n",
       "      <td>0.000000</td>\n",
       "    </tr>\n",
       "    <tr>\n",
       "      <th>25%</th>\n",
       "      <td>19.947192</td>\n",
       "      <td>1.630000</td>\n",
       "      <td>65.473343</td>\n",
       "      <td>2.000000</td>\n",
       "      <td>2.658738</td>\n",
       "      <td>1.584812</td>\n",
       "      <td>0.124505</td>\n",
       "      <td>0.000000</td>\n",
       "    </tr>\n",
       "    <tr>\n",
       "      <th>50%</th>\n",
       "      <td>22.777890</td>\n",
       "      <td>1.700499</td>\n",
       "      <td>83.000000</td>\n",
       "      <td>2.385502</td>\n",
       "      <td>3.000000</td>\n",
       "      <td>2.000000</td>\n",
       "      <td>1.000000</td>\n",
       "      <td>0.625350</td>\n",
       "    </tr>\n",
       "    <tr>\n",
       "      <th>75%</th>\n",
       "      <td>26.000000</td>\n",
       "      <td>1.768464</td>\n",
       "      <td>107.430682</td>\n",
       "      <td>3.000000</td>\n",
       "      <td>3.000000</td>\n",
       "      <td>2.477420</td>\n",
       "      <td>1.666678</td>\n",
       "      <td>1.000000</td>\n",
       "    </tr>\n",
       "    <tr>\n",
       "      <th>max</th>\n",
       "      <td>61.000000</td>\n",
       "      <td>1.980000</td>\n",
       "      <td>173.000000</td>\n",
       "      <td>3.000000</td>\n",
       "      <td>4.000000</td>\n",
       "      <td>3.000000</td>\n",
       "      <td>3.000000</td>\n",
       "      <td>2.000000</td>\n",
       "    </tr>\n",
       "  </tbody>\n",
       "</table>\n",
       "</div>"
      ],
      "text/plain": [
       "               Age       Height       Weight         FCVC          NCP  \\\n",
       "count  2111.000000  2111.000000  2111.000000  2111.000000  2111.000000   \n",
       "mean     24.312600     1.701677    86.586058     2.419043     2.685628   \n",
       "std       6.345968     0.093305    26.191172     0.533927     0.778039   \n",
       "min      14.000000     1.450000    39.000000     1.000000     1.000000   \n",
       "25%      19.947192     1.630000    65.473343     2.000000     2.658738   \n",
       "50%      22.777890     1.700499    83.000000     2.385502     3.000000   \n",
       "75%      26.000000     1.768464   107.430682     3.000000     3.000000   \n",
       "max      61.000000     1.980000   173.000000     3.000000     4.000000   \n",
       "\n",
       "              CH2O          FAF          TUE  \n",
       "count  2111.000000  2111.000000  2111.000000  \n",
       "mean      2.008011     1.010298     0.657866  \n",
       "std       0.612953     0.850592     0.608927  \n",
       "min       1.000000     0.000000     0.000000  \n",
       "25%       1.584812     0.124505     0.000000  \n",
       "50%       2.000000     1.000000     0.625350  \n",
       "75%       2.477420     1.666678     1.000000  \n",
       "max       3.000000     3.000000     2.000000  "
      ]
     },
     "execution_count": 3,
     "metadata": {},
     "output_type": "execute_result"
    }
   ],
   "source": [
    "#Statical summary of the numerical columns, that shows the count of 2111 rows among all numerical columns and shows the mean, standard deviation, minimum, maximum, 1st quartile,2nd quartile, and 3rd quartile.\n",
    "obesity.describe() "
   ]
  },
  {
   "cell_type": "code",
   "execution_count": 4,
   "metadata": {},
   "outputs": [
    {
     "data": {
      "text/html": [
       "<div>\n",
       "<style scoped>\n",
       "    .dataframe tbody tr th:only-of-type {\n",
       "        vertical-align: middle;\n",
       "    }\n",
       "\n",
       "    .dataframe tbody tr th {\n",
       "        vertical-align: top;\n",
       "    }\n",
       "\n",
       "    .dataframe thead th {\n",
       "        text-align: right;\n",
       "    }\n",
       "</style>\n",
       "<table border=\"1\" class=\"dataframe\">\n",
       "  <thead>\n",
       "    <tr style=\"text-align: right;\">\n",
       "      <th></th>\n",
       "      <th>Gender</th>\n",
       "      <th>family_history_with_overweight</th>\n",
       "      <th>FAVC</th>\n",
       "      <th>CAEC</th>\n",
       "      <th>SMOKE</th>\n",
       "      <th>SCC</th>\n",
       "      <th>CALC</th>\n",
       "      <th>MTRANS</th>\n",
       "      <th>NObeyesdad</th>\n",
       "    </tr>\n",
       "  </thead>\n",
       "  <tbody>\n",
       "    <tr>\n",
       "      <th>count</th>\n",
       "      <td>2111</td>\n",
       "      <td>2111</td>\n",
       "      <td>2111</td>\n",
       "      <td>2111</td>\n",
       "      <td>2111</td>\n",
       "      <td>2111</td>\n",
       "      <td>2111</td>\n",
       "      <td>2111</td>\n",
       "      <td>2111</td>\n",
       "    </tr>\n",
       "    <tr>\n",
       "      <th>unique</th>\n",
       "      <td>2</td>\n",
       "      <td>2</td>\n",
       "      <td>2</td>\n",
       "      <td>4</td>\n",
       "      <td>2</td>\n",
       "      <td>2</td>\n",
       "      <td>4</td>\n",
       "      <td>5</td>\n",
       "      <td>7</td>\n",
       "    </tr>\n",
       "    <tr>\n",
       "      <th>top</th>\n",
       "      <td>Male</td>\n",
       "      <td>yes</td>\n",
       "      <td>yes</td>\n",
       "      <td>Sometimes</td>\n",
       "      <td>no</td>\n",
       "      <td>no</td>\n",
       "      <td>Sometimes</td>\n",
       "      <td>Public_Transportation</td>\n",
       "      <td>Obesity_Type_I</td>\n",
       "    </tr>\n",
       "    <tr>\n",
       "      <th>freq</th>\n",
       "      <td>1068</td>\n",
       "      <td>1726</td>\n",
       "      <td>1866</td>\n",
       "      <td>1765</td>\n",
       "      <td>2067</td>\n",
       "      <td>2015</td>\n",
       "      <td>1401</td>\n",
       "      <td>1580</td>\n",
       "      <td>351</td>\n",
       "    </tr>\n",
       "  </tbody>\n",
       "</table>\n",
       "</div>"
      ],
      "text/plain": [
       "       Gender family_history_with_overweight  FAVC       CAEC SMOKE   SCC  \\\n",
       "count    2111                           2111  2111       2111  2111  2111   \n",
       "unique      2                              2     2          4     2     2   \n",
       "top      Male                            yes   yes  Sometimes    no    no   \n",
       "freq     1068                           1726  1866       1765  2067  2015   \n",
       "\n",
       "             CALC                 MTRANS      NObeyesdad  \n",
       "count        2111                   2111            2111  \n",
       "unique          4                      5               7  \n",
       "top     Sometimes  Public_Transportation  Obesity_Type_I  \n",
       "freq         1401                   1580             351  "
      ]
     },
     "execution_count": 4,
     "metadata": {},
     "output_type": "execute_result"
    }
   ],
   "source": [
    "# Summary of the categorical columns\n",
    "obesity.select_dtypes(include=['object']).describe() "
   ]
  },
  {
   "cell_type": "code",
   "execution_count": 5,
   "metadata": {},
   "outputs": [],
   "source": [
    "# The statical summary of the categorical columns shows the count of 2111 rows among all numerical columns. There are two unique values in Gender, FAVC, SMOKE,  SCC, and Family_History_With_Overweight.\n",
    "#Four unique values in CAEC and CALC. Five values in MTRANS, and seven unique values in NObeyesdad.The summary also includes the top values in each column and its frequency value. \n",
    "   #For example, in Nobeyesdad, the top unique value is Obesity_Type_I and has occurred 351 times.  "
   ]
  },
  {
   "cell_type": "code",
   "execution_count": 6,
   "metadata": {},
   "outputs": [],
   "source": [
    "# Let's find unique values from each categorical column"
   ]
  },
  {
   "cell_type": "code",
   "execution_count": 7,
   "metadata": {},
   "outputs": [
    {
     "data": {
      "text/plain": [
       "['Female', 'Male']"
      ]
     },
     "execution_count": 7,
     "metadata": {},
     "output_type": "execute_result"
    }
   ],
   "source": [
    "list(obesity[\"Gender\"].unique())"
   ]
  },
  {
   "cell_type": "code",
   "execution_count": 8,
   "metadata": {},
   "outputs": [
    {
     "data": {
      "text/plain": [
       "['yes', 'no']"
      ]
     },
     "execution_count": 8,
     "metadata": {},
     "output_type": "execute_result"
    }
   ],
   "source": [
    "list(obesity[\"family_history_with_overweight\"].unique())"
   ]
  },
  {
   "cell_type": "code",
   "execution_count": 9,
   "metadata": {},
   "outputs": [
    {
     "data": {
      "text/plain": [
       "['no', 'yes']"
      ]
     },
     "execution_count": 9,
     "metadata": {},
     "output_type": "execute_result"
    }
   ],
   "source": [
    "list(obesity[\"FAVC\"].unique())"
   ]
  },
  {
   "cell_type": "code",
   "execution_count": 10,
   "metadata": {},
   "outputs": [
    {
     "data": {
      "text/plain": [
       "['Sometimes', 'Frequently', 'Always', 'no']"
      ]
     },
     "execution_count": 10,
     "metadata": {},
     "output_type": "execute_result"
    }
   ],
   "source": [
    "list(obesity[\"CAEC\"].unique())"
   ]
  },
  {
   "cell_type": "code",
   "execution_count": 11,
   "metadata": {},
   "outputs": [
    {
     "data": {
      "text/plain": [
       "['no', 'yes']"
      ]
     },
     "execution_count": 11,
     "metadata": {},
     "output_type": "execute_result"
    }
   ],
   "source": [
    "list(obesity[\"SMOKE\"].unique())"
   ]
  },
  {
   "cell_type": "code",
   "execution_count": 12,
   "metadata": {},
   "outputs": [
    {
     "data": {
      "text/plain": [
       "['no', 'yes']"
      ]
     },
     "execution_count": 12,
     "metadata": {},
     "output_type": "execute_result"
    }
   ],
   "source": [
    "list(obesity[\"SCC\"].unique())"
   ]
  },
  {
   "cell_type": "code",
   "execution_count": 13,
   "metadata": {},
   "outputs": [
    {
     "data": {
      "text/plain": [
       "['no', 'Sometimes', 'Frequently', 'Always']"
      ]
     },
     "execution_count": 13,
     "metadata": {},
     "output_type": "execute_result"
    }
   ],
   "source": [
    "list(obesity[\"CALC\"].unique())"
   ]
  },
  {
   "cell_type": "code",
   "execution_count": 14,
   "metadata": {},
   "outputs": [
    {
     "data": {
      "text/plain": [
       "['Public_Transportation', 'Walking', 'Automobile', 'Motorbike', 'Bike']"
      ]
     },
     "execution_count": 14,
     "metadata": {},
     "output_type": "execute_result"
    }
   ],
   "source": [
    "list(obesity[\"MTRANS\"].unique())"
   ]
  },
  {
   "cell_type": "code",
   "execution_count": 15,
   "metadata": {},
   "outputs": [
    {
     "data": {
      "text/plain": [
       "['Normal_Weight',\n",
       " 'Overweight_Level_I',\n",
       " 'Overweight_Level_II',\n",
       " 'Obesity_Type_I',\n",
       " 'Insufficient_Weight',\n",
       " 'Obesity_Type_II',\n",
       " 'Obesity_Type_III']"
      ]
     },
     "execution_count": 15,
     "metadata": {},
     "output_type": "execute_result"
    }
   ],
   "source": [
    "list(obesity[\"NObeyesdad\"].unique())"
   ]
  },
  {
   "cell_type": "code",
   "execution_count": 16,
   "metadata": {},
   "outputs": [
    {
     "data": {
      "text/html": [
       "<div>\n",
       "<style scoped>\n",
       "    .dataframe tbody tr th:only-of-type {\n",
       "        vertical-align: middle;\n",
       "    }\n",
       "\n",
       "    .dataframe tbody tr th {\n",
       "        vertical-align: top;\n",
       "    }\n",
       "\n",
       "    .dataframe thead th {\n",
       "        text-align: right;\n",
       "    }\n",
       "</style>\n",
       "<table border=\"1\" class=\"dataframe\">\n",
       "  <thead>\n",
       "    <tr style=\"text-align: right;\">\n",
       "      <th></th>\n",
       "      <th>Gender</th>\n",
       "      <th>Age</th>\n",
       "      <th>Height</th>\n",
       "      <th>Weight</th>\n",
       "      <th>family_history_with_overweight</th>\n",
       "      <th>FAVC</th>\n",
       "      <th>FCVC</th>\n",
       "      <th>NCP</th>\n",
       "      <th>CAEC</th>\n",
       "      <th>SMOKE</th>\n",
       "      <th>CH2O</th>\n",
       "      <th>SCC</th>\n",
       "      <th>FAF</th>\n",
       "      <th>TUE</th>\n",
       "      <th>CALC</th>\n",
       "      <th>MTRANS</th>\n",
       "      <th>Obesity levels</th>\n",
       "    </tr>\n",
       "  </thead>\n",
       "  <tbody>\n",
       "    <tr>\n",
       "      <th>0</th>\n",
       "      <td>Female</td>\n",
       "      <td>21.0</td>\n",
       "      <td>1.62</td>\n",
       "      <td>64.0</td>\n",
       "      <td>yes</td>\n",
       "      <td>no</td>\n",
       "      <td>2.0</td>\n",
       "      <td>3.0</td>\n",
       "      <td>Sometimes</td>\n",
       "      <td>no</td>\n",
       "      <td>2.0</td>\n",
       "      <td>no</td>\n",
       "      <td>0.0</td>\n",
       "      <td>1.0</td>\n",
       "      <td>no</td>\n",
       "      <td>Public_Transportation</td>\n",
       "      <td>Normal_Weight</td>\n",
       "    </tr>\n",
       "    <tr>\n",
       "      <th>1</th>\n",
       "      <td>Female</td>\n",
       "      <td>21.0</td>\n",
       "      <td>1.52</td>\n",
       "      <td>56.0</td>\n",
       "      <td>yes</td>\n",
       "      <td>no</td>\n",
       "      <td>3.0</td>\n",
       "      <td>3.0</td>\n",
       "      <td>Sometimes</td>\n",
       "      <td>yes</td>\n",
       "      <td>3.0</td>\n",
       "      <td>yes</td>\n",
       "      <td>3.0</td>\n",
       "      <td>0.0</td>\n",
       "      <td>Sometimes</td>\n",
       "      <td>Public_Transportation</td>\n",
       "      <td>Normal_Weight</td>\n",
       "    </tr>\n",
       "    <tr>\n",
       "      <th>2</th>\n",
       "      <td>Male</td>\n",
       "      <td>23.0</td>\n",
       "      <td>1.80</td>\n",
       "      <td>77.0</td>\n",
       "      <td>yes</td>\n",
       "      <td>no</td>\n",
       "      <td>2.0</td>\n",
       "      <td>3.0</td>\n",
       "      <td>Sometimes</td>\n",
       "      <td>no</td>\n",
       "      <td>2.0</td>\n",
       "      <td>no</td>\n",
       "      <td>2.0</td>\n",
       "      <td>1.0</td>\n",
       "      <td>Frequently</td>\n",
       "      <td>Public_Transportation</td>\n",
       "      <td>Normal_Weight</td>\n",
       "    </tr>\n",
       "    <tr>\n",
       "      <th>3</th>\n",
       "      <td>Male</td>\n",
       "      <td>27.0</td>\n",
       "      <td>1.80</td>\n",
       "      <td>87.0</td>\n",
       "      <td>no</td>\n",
       "      <td>no</td>\n",
       "      <td>3.0</td>\n",
       "      <td>3.0</td>\n",
       "      <td>Sometimes</td>\n",
       "      <td>no</td>\n",
       "      <td>2.0</td>\n",
       "      <td>no</td>\n",
       "      <td>2.0</td>\n",
       "      <td>0.0</td>\n",
       "      <td>Frequently</td>\n",
       "      <td>Walking</td>\n",
       "      <td>Overweight_Level_I</td>\n",
       "    </tr>\n",
       "    <tr>\n",
       "      <th>4</th>\n",
       "      <td>Male</td>\n",
       "      <td>22.0</td>\n",
       "      <td>1.78</td>\n",
       "      <td>89.8</td>\n",
       "      <td>no</td>\n",
       "      <td>no</td>\n",
       "      <td>2.0</td>\n",
       "      <td>1.0</td>\n",
       "      <td>Sometimes</td>\n",
       "      <td>no</td>\n",
       "      <td>2.0</td>\n",
       "      <td>no</td>\n",
       "      <td>0.0</td>\n",
       "      <td>0.0</td>\n",
       "      <td>Sometimes</td>\n",
       "      <td>Public_Transportation</td>\n",
       "      <td>Overweight_Level_II</td>\n",
       "    </tr>\n",
       "  </tbody>\n",
       "</table>\n",
       "</div>"
      ],
      "text/plain": [
       "   Gender   Age  Height  Weight family_history_with_overweight FAVC  FCVC  \\\n",
       "0  Female  21.0    1.62    64.0                            yes   no   2.0   \n",
       "1  Female  21.0    1.52    56.0                            yes   no   3.0   \n",
       "2    Male  23.0    1.80    77.0                            yes   no   2.0   \n",
       "3    Male  27.0    1.80    87.0                             no   no   3.0   \n",
       "4    Male  22.0    1.78    89.8                             no   no   2.0   \n",
       "\n",
       "   NCP       CAEC SMOKE  CH2O  SCC  FAF  TUE        CALC  \\\n",
       "0  3.0  Sometimes    no   2.0   no  0.0  1.0          no   \n",
       "1  3.0  Sometimes   yes   3.0  yes  3.0  0.0   Sometimes   \n",
       "2  3.0  Sometimes    no   2.0   no  2.0  1.0  Frequently   \n",
       "3  3.0  Sometimes    no   2.0   no  2.0  0.0  Frequently   \n",
       "4  1.0  Sometimes    no   2.0   no  0.0  0.0   Sometimes   \n",
       "\n",
       "                  MTRANS       Obesity levels  \n",
       "0  Public_Transportation        Normal_Weight  \n",
       "1  Public_Transportation        Normal_Weight  \n",
       "2  Public_Transportation        Normal_Weight  \n",
       "3                Walking   Overweight_Level_I  \n",
       "4  Public_Transportation  Overweight_Level_II  "
      ]
     },
     "execution_count": 16,
     "metadata": {},
     "output_type": "execute_result"
    }
   ],
   "source": [
    "# Rename Nobeyesdad columns to Obesity Levels\n",
    "obesity.rename(columns = {'NObeyesdad':'Obesity levels'}, inplace = True) \n",
    "obesity.head()"
   ]
  },
  {
   "cell_type": "code",
   "execution_count": 17,
   "metadata": {},
   "outputs": [
    {
     "data": {
      "text/html": [
       "<div>\n",
       "<style scoped>\n",
       "    .dataframe tbody tr th:only-of-type {\n",
       "        vertical-align: middle;\n",
       "    }\n",
       "\n",
       "    .dataframe tbody tr th {\n",
       "        vertical-align: top;\n",
       "    }\n",
       "\n",
       "    .dataframe thead th {\n",
       "        text-align: right;\n",
       "    }\n",
       "</style>\n",
       "<table border=\"1\" class=\"dataframe\">\n",
       "  <thead>\n",
       "    <tr style=\"text-align: right;\">\n",
       "      <th>Obesity levels</th>\n",
       "      <th>Insufficient_Weight</th>\n",
       "      <th>Normal_Weight</th>\n",
       "      <th>Obesity_Type_I</th>\n",
       "      <th>Obesity_Type_II</th>\n",
       "      <th>Obesity_Type_III</th>\n",
       "      <th>Overweight_Level_I</th>\n",
       "      <th>Overweight_Level_II</th>\n",
       "    </tr>\n",
       "  </thead>\n",
       "  <tbody>\n",
       "    <tr>\n",
       "      <th>size</th>\n",
       "      <td>272</td>\n",
       "      <td>287</td>\n",
       "      <td>351</td>\n",
       "      <td>297</td>\n",
       "      <td>324</td>\n",
       "      <td>290</td>\n",
       "      <td>290</td>\n",
       "    </tr>\n",
       "  </tbody>\n",
       "</table>\n",
       "</div>"
      ],
      "text/plain": [
       "Obesity levels  Insufficient_Weight  Normal_Weight  Obesity_Type_I  \\\n",
       "size                            272            287             351   \n",
       "\n",
       "Obesity levels  Obesity_Type_II  Obesity_Type_III  Overweight_Level_I  \\\n",
       "size                        297               324                 290   \n",
       "\n",
       "Obesity levels  Overweight_Level_II  \n",
       "size                            290  "
      ]
     },
     "execution_count": 17,
     "metadata": {},
     "output_type": "execute_result"
    }
   ],
   "source": [
    "# Preparing dataframe to graph the Obesity Levels distribution\n",
    "grpd = obesity.groupby(['Obesity levels']).size().to_frame('size')\n",
    "grpd = grpd.transpose()\n",
    "grpd.head()"
   ]
  },
  {
   "cell_type": "code",
   "execution_count": 18,
   "metadata": {},
   "outputs": [
    {
     "name": "stdout",
     "output_type": "stream",
     "text": [
      "Matplotlib version:  3.2.2\n"
     ]
    }
   ],
   "source": [
    "#Visualizing Data using Matplotlib\n",
    "# use the inline backend to generate the plots within the browser\n",
    "%matplotlib inline \n",
    "\n",
    "import matplotlib as mpl\n",
    "import matplotlib.pyplot as plt\n",
    "\n",
    "mpl.style.use('ggplot') # optional: for ggplot-like style\n",
    "\n",
    "# check for latest version of Matplotlib\n",
    "print ('Matplotlib version: ', mpl.__version__) # >= 2.0.0"
   ]
  },
  {
   "cell_type": "code",
   "execution_count": 19,
   "metadata": {},
   "outputs": [
    {
     "data": {
      "image/png": "[encoded data removed]",
      "text/plain": [
       "<Figure size 1080x720 with 1 Axes>"
      ]
     },
     "metadata": {},
     "output_type": "display_data"
    }
   ],
   "source": [
    "# Distribution of entries for each Obesity level\n",
    "graph = grpd.plot(kind='bar', figsize=(15, 10))\n",
    "\n",
    "graph.axes.get_xaxis().set_visible(False)\n",
    "plt.title('distribution of data regarding the obesity levels category') # add a title to the histogram    \n",
    "plt.ylabel('Number of records') # add y-label\n",
    "plt.xlabel('Obesity level categories') # add x-label\n",
    "\n",
    "plt.show()\n",
    " #The data set is unbalanced regarding the amount of entries per unique value in Obesity level column. We need to make sure that the data is balance to ovoid bias. "
   ]
  },
  {
   "cell_type": "code",
   "execution_count": 20,
   "metadata": {},
   "outputs": [
    {
     "data": {
      "text/plain": [
       "<matplotlib.axes._subplots.AxesSubplot at 0x7fc27ae88190>"
      ]
     },
     "execution_count": 20,
     "metadata": {},
     "output_type": "execute_result"
    },
    {
     "data": {
      "image/png": "[encoded data removed]",
      "text/plain": [
       "<Figure size 1440x720 with 1 Axes>"
      ]
     },
     "metadata": {},
     "output_type": "display_data"
    }
   ],
   "source": [
    "plt.figure(figsize=(20,10))\n",
    "sb.boxplot(x=\"Obesity levels\",y=\"Age\",data=obesity)\n",
    "\n",
    "#boxplotshows the distribution of Age by obesity levels.each obesity level have a diferent medians, max, Q3. We can see that there is different distribution among different obesity levels.\n",
    "#Normal_weight is symmetric. And Overweight_level_I, Overweight_level_II, Obesity_Type_I, Obesity_TypeII, and Insufficient Weightare are all right skewed.While Obesity_Type_III is left skewed.\n",
    "#We can also observe that there are some outliers in all levels but Obesity_Type_III where the Q3 is the same as max.\n"
   ]
  },
  {
   "cell_type": "code",
   "execution_count": 21,
   "metadata": {},
   "outputs": [
    {
     "data": {
      "text/plain": [
       "<matplotlib.axes._subplots.AxesSubplot at 0x7fc27a5d1450>"
      ]
     },
     "execution_count": 21,
     "metadata": {},
     "output_type": "execute_result"
    },
    {
     "data": {
      "image/png": "[encoded data removed]",
      "text/plain": [
       "<Figure size 1440x720 with 1 Axes>"
      ]
     },
     "metadata": {},
     "output_type": "display_data"
    }
   ],
   "source": [
    "plt.figure(figsize=(20,10))#y is none\n",
    "obesity.groupby('Obesity levels').size().plot(kind='pie', autopct='%.2f')\n",
    "\n",
    "#Is a piechart and count of the obesity levels, we can see that the top value in Obesity_Type_I  16.63%, and the smallest value is Insufficient_weight is 12.88%, and the median is Overweight_level_II 13.74%.\n",
    "#We can see the the is 2.89% (61) difference from median to max and 0.86%(18). There is no much difference between each entries, which mean the unbalance will not cause a bias.\n"
   ]
  },
  {
   "cell_type": "code",
   "execution_count": 22,
   "metadata": {},
   "outputs": [
    {
     "name": "stdout",
     "output_type": "stream",
     "text": [
      "Obesity_Type_I         351\n",
      "Obesity_Type_III       324\n",
      "Obesity_Type_II        297\n",
      "Overweight_Level_II    290\n",
      "Overweight_Level_I     290\n",
      "Normal_Weight          287\n",
      "Insufficient_Weight    272\n",
      "Name: Obesity levels, dtype: int64\n"
     ]
    }
   ],
   "source": [
    "obesity.describe()\n",
    "#values_counts for categorical attributes\n",
    "drive_wheels_count=obesity[\"Obesity levels\"].value_counts()\n",
    "print(drive_wheels_count)\n",
    "\n"
   ]
  },
  {
   "cell_type": "code",
   "execution_count": 23,
   "metadata": {},
   "outputs": [],
   "source": [
    "# One way Anova test of obesity levels vs all continues columns\n",
    "\n",
    "import seaborn as sb\n",
    "import scipy.stats as stat"
   ]
  },
  {
   "cell_type": "code",
   "execution_count": 24,
   "metadata": {},
   "outputs": [
    {
     "name": "stdout",
     "output_type": "stream",
     "text": [
      "ANOVA results: F= 93.94134207712972 , P = 3.7861154806248437e-88\n"
     ]
    }
   ],
   "source": [
    "grouped_test2=obesity[['Obesity levels','Age']].groupby(['Obesity levels'])\n",
    "f_val, p_val = stat.f_oneway(grouped_test2.get_group('Obesity_Type_I')['Age'], \n",
    "                             grouped_test2.get_group('Obesity_Type_III')['Age'], \n",
    "                             grouped_test2.get_group('Obesity_Type_II')['Age'],\n",
    "                             grouped_test2.get_group('Overweight_Level_II')['Age'],\n",
    "                            grouped_test2.get_group('Normal_Weight')['Age'],\n",
    "                            grouped_test2.get_group('Insufficient_Weight')['Age'])\n",
    "print( \"ANOVA results: F=\", f_val, \", P =\", p_val)"
   ]
  },
  {
   "cell_type": "code",
   "execution_count": 25,
   "metadata": {},
   "outputs": [
    {
     "name": "stdout",
     "output_type": "stream",
     "text": [
      "ANOVA results: F= 2155.1714690926638 , P = 0.0\n"
     ]
    }
   ],
   "source": [
    "grouped_test2=obesity[['Obesity levels','Weight']].groupby(['Obesity levels'])\n",
    "f_val, p_val = stat.f_oneway(grouped_test2.get_group('Obesity_Type_I')['Weight'], \n",
    "                             grouped_test2.get_group('Obesity_Type_III')['Weight'], \n",
    "                             grouped_test2.get_group('Obesity_Type_II')['Weight'],\n",
    "                             grouped_test2.get_group('Overweight_Level_II')['Weight'],\n",
    "                            grouped_test2.get_group('Normal_Weight')['Weight'],\n",
    "                            grouped_test2.get_group('Insufficient_Weight')['Weight'])\n",
    "print( \"ANOVA results: F=\", f_val, \", P =\", p_val)"
   ]
  },
  {
   "cell_type": "code",
   "execution_count": 26,
   "metadata": {},
   "outputs": [
    {
     "name": "stdout",
     "output_type": "stream",
     "text": [
      "ANOVA results: F= 128.9291543894548 , P = 4.543680389950458e-117\n"
     ]
    }
   ],
   "source": [
    "grouped_test2=obesity[['Obesity levels','FCVC']].groupby(['Obesity levels'])\n",
    "f_val, p_val = stat.f_oneway(grouped_test2.get_group('Obesity_Type_I')['FCVC'], \n",
    "                             grouped_test2.get_group('Obesity_Type_III')['FCVC'], \n",
    "                             grouped_test2.get_group('Obesity_Type_II')['FCVC'],\n",
    "                             grouped_test2.get_group('Overweight_Level_II')['FCVC'],\n",
    "                            grouped_test2.get_group('Normal_Weight')['FCVC'],\n",
    "                            grouped_test2.get_group('Insufficient_Weight')['FCVC'])\n",
    "print( \"ANOVA results: F=\", f_val, \", P =\", p_val)"
   ]
  },
  {
   "cell_type": "code",
   "execution_count": 27,
   "metadata": {},
   "outputs": [
    {
     "name": "stdout",
     "output_type": "stream",
     "text": [
      "ANOVA results: F= 31.476976009593688 , P = 7.958578322486408e-31\n"
     ]
    }
   ],
   "source": [
    "grouped_test2=obesity[['Obesity levels','NCP']].groupby(['Obesity levels'])\n",
    "f_val, p_val = stat.f_oneway(grouped_test2.get_group('Obesity_Type_I')['NCP'], \n",
    "                             grouped_test2.get_group('Obesity_Type_III')['NCP'], \n",
    "                             grouped_test2.get_group('Obesity_Type_II')['NCP'],\n",
    "                             grouped_test2.get_group('Overweight_Level_II')['NCP'],\n",
    "                            grouped_test2.get_group('Normal_Weight')['NCP'],\n",
    "                            grouped_test2.get_group('Insufficient_Weight')['NCP'])\n",
    "print( \"ANOVA results: F=\", f_val, \", P =\", p_val)"
   ]
  },
  {
   "cell_type": "code",
   "execution_count": 28,
   "metadata": {},
   "outputs": [
    {
     "name": "stdout",
     "output_type": "stream",
     "text": [
      "ANOVA results: F= 19.079687489502128 , P = 1.5338338946175934e-18\n"
     ]
    }
   ],
   "source": [
    "grouped_test2=obesity[['Obesity levels','CH2O']].groupby(['Obesity levels'])\n",
    "f_val, p_val = stat.f_oneway(grouped_test2.get_group('Obesity_Type_I')['CH2O'], \n",
    "                             grouped_test2.get_group('Obesity_Type_III')['CH2O'], \n",
    "                             grouped_test2.get_group('Obesity_Type_II')['CH2O'],\n",
    "                             grouped_test2.get_group('Overweight_Level_II')['CH2O'],\n",
    "                            grouped_test2.get_group('Normal_Weight')['CH2O'],\n",
    "                            grouped_test2.get_group('Insufficient_Weight')['CH2O'])\n",
    "print( \"ANOVA results: F=\", f_val, \", P =\", p_val)"
   ]
  },
  {
   "cell_type": "code",
   "execution_count": 29,
   "metadata": {},
   "outputs": [
    {
     "name": "stdout",
     "output_type": "stream",
     "text": [
      "ANOVA results: F= 20.935221089837214 , P = 2.150307588314657e-20\n"
     ]
    }
   ],
   "source": [
    "grouped_test2=obesity[['Obesity levels','FAF']].groupby(['Obesity levels'])\n",
    "f_val, p_val = stat.f_oneway(grouped_test2.get_group('Obesity_Type_I')['FAF'], \n",
    "                             grouped_test2.get_group('Obesity_Type_III')['FAF'], \n",
    "                             grouped_test2.get_group('Obesity_Type_II')['FAF'],\n",
    "                             grouped_test2.get_group('Overweight_Level_II')['FAF'],\n",
    "                            grouped_test2.get_group('Normal_Weight')['FAF'],\n",
    "                            grouped_test2.get_group('Insufficient_Weight')['FAF'])\n",
    "print( \"ANOVA results: F=\", f_val, \", P =\", p_val)"
   ]
  },
  {
   "cell_type": "code",
   "execution_count": 30,
   "metadata": {},
   "outputs": [
    {
     "name": "stdout",
     "output_type": "stream",
     "text": [
      "ANOVA results: F= 9.4764164316254 , P = 6.20345870677878e-09\n"
     ]
    }
   ],
   "source": [
    "grouped_test2=obesity[['Obesity levels','TUE']].groupby(['Obesity levels'])\n",
    "f_val, p_val = stat.f_oneway(grouped_test2.get_group('Obesity_Type_I')['TUE'], \n",
    "                             grouped_test2.get_group('Obesity_Type_III')['TUE'], \n",
    "                             grouped_test2.get_group('Obesity_Type_II')['TUE'],\n",
    "                             grouped_test2.get_group('Overweight_Level_II')['TUE'],\n",
    "                            grouped_test2.get_group('Normal_Weight')['TUE'],\n",
    "                            grouped_test2.get_group('Insufficient_Weight')['TUE'])\n",
    "print( \"ANOVA results: F=\", f_val, \", P =\", p_val)"
   ]
  },
  {
   "cell_type": "code",
   "execution_count": 31,
   "metadata": {},
   "outputs": [],
   "source": [
    "#The output in all 7 cases shows a p_value > 0.05. This means that the is a relationship between all continues variables and obesity level. Therefore we will keep all attributes. \n"
   ]
  },
  {
   "cell_type": "code",
   "execution_count": 32,
   "metadata": {},
   "outputs": [
    {
     "data": {
      "text/html": [
       "<div>\n",
       "<style scoped>\n",
       "    .dataframe tbody tr th:only-of-type {\n",
       "        vertical-align: middle;\n",
       "    }\n",
       "\n",
       "    .dataframe tbody tr th {\n",
       "        vertical-align: top;\n",
       "    }\n",
       "\n",
       "    .dataframe thead th {\n",
       "        text-align: right;\n",
       "    }\n",
       "</style>\n",
       "<table border=\"1\" class=\"dataframe\">\n",
       "  <thead>\n",
       "    <tr style=\"text-align: right;\">\n",
       "      <th></th>\n",
       "      <th>Gender</th>\n",
       "      <th>Age</th>\n",
       "      <th>Height</th>\n",
       "      <th>Weight</th>\n",
       "      <th>family_history_with_overweight</th>\n",
       "      <th>FAVC</th>\n",
       "      <th>FCVC</th>\n",
       "      <th>NCP</th>\n",
       "      <th>CAEC</th>\n",
       "      <th>SMOKE</th>\n",
       "      <th>CH2O</th>\n",
       "      <th>SCC</th>\n",
       "      <th>FAF</th>\n",
       "      <th>TUE</th>\n",
       "      <th>CALC</th>\n",
       "      <th>MTRANS</th>\n",
       "      <th>Obesity levels</th>\n",
       "    </tr>\n",
       "  </thead>\n",
       "  <tbody>\n",
       "    <tr>\n",
       "      <th>0</th>\n",
       "      <td>False</td>\n",
       "      <td>False</td>\n",
       "      <td>False</td>\n",
       "      <td>False</td>\n",
       "      <td>False</td>\n",
       "      <td>False</td>\n",
       "      <td>False</td>\n",
       "      <td>False</td>\n",
       "      <td>False</td>\n",
       "      <td>False</td>\n",
       "      <td>False</td>\n",
       "      <td>False</td>\n",
       "      <td>False</td>\n",
       "      <td>False</td>\n",
       "      <td>False</td>\n",
       "      <td>False</td>\n",
       "      <td>False</td>\n",
       "    </tr>\n",
       "    <tr>\n",
       "      <th>1</th>\n",
       "      <td>False</td>\n",
       "      <td>False</td>\n",
       "      <td>False</td>\n",
       "      <td>False</td>\n",
       "      <td>False</td>\n",
       "      <td>False</td>\n",
       "      <td>False</td>\n",
       "      <td>False</td>\n",
       "      <td>False</td>\n",
       "      <td>False</td>\n",
       "      <td>False</td>\n",
       "      <td>False</td>\n",
       "      <td>False</td>\n",
       "      <td>False</td>\n",
       "      <td>False</td>\n",
       "      <td>False</td>\n",
       "      <td>False</td>\n",
       "    </tr>\n",
       "    <tr>\n",
       "      <th>2</th>\n",
       "      <td>False</td>\n",
       "      <td>False</td>\n",
       "      <td>False</td>\n",
       "      <td>False</td>\n",
       "      <td>False</td>\n",
       "      <td>False</td>\n",
       "      <td>False</td>\n",
       "      <td>False</td>\n",
       "      <td>False</td>\n",
       "      <td>False</td>\n",
       "      <td>False</td>\n",
       "      <td>False</td>\n",
       "      <td>False</td>\n",
       "      <td>False</td>\n",
       "      <td>False</td>\n",
       "      <td>False</td>\n",
       "      <td>False</td>\n",
       "    </tr>\n",
       "    <tr>\n",
       "      <th>3</th>\n",
       "      <td>False</td>\n",
       "      <td>False</td>\n",
       "      <td>False</td>\n",
       "      <td>False</td>\n",
       "      <td>False</td>\n",
       "      <td>False</td>\n",
       "      <td>False</td>\n",
       "      <td>False</td>\n",
       "      <td>False</td>\n",
       "      <td>False</td>\n",
       "      <td>False</td>\n",
       "      <td>False</td>\n",
       "      <td>False</td>\n",
       "      <td>False</td>\n",
       "      <td>False</td>\n",
       "      <td>False</td>\n",
       "      <td>False</td>\n",
       "    </tr>\n",
       "    <tr>\n",
       "      <th>4</th>\n",
       "      <td>False</td>\n",
       "      <td>False</td>\n",
       "      <td>False</td>\n",
       "      <td>False</td>\n",
       "      <td>False</td>\n",
       "      <td>False</td>\n",
       "      <td>False</td>\n",
       "      <td>False</td>\n",
       "      <td>False</td>\n",
       "      <td>False</td>\n",
       "      <td>False</td>\n",
       "      <td>False</td>\n",
       "      <td>False</td>\n",
       "      <td>False</td>\n",
       "      <td>False</td>\n",
       "      <td>False</td>\n",
       "      <td>False</td>\n",
       "    </tr>\n",
       "    <tr>\n",
       "      <th>...</th>\n",
       "      <td>...</td>\n",
       "      <td>...</td>\n",
       "      <td>...</td>\n",
       "      <td>...</td>\n",
       "      <td>...</td>\n",
       "      <td>...</td>\n",
       "      <td>...</td>\n",
       "      <td>...</td>\n",
       "      <td>...</td>\n",
       "      <td>...</td>\n",
       "      <td>...</td>\n",
       "      <td>...</td>\n",
       "      <td>...</td>\n",
       "      <td>...</td>\n",
       "      <td>...</td>\n",
       "      <td>...</td>\n",
       "      <td>...</td>\n",
       "    </tr>\n",
       "    <tr>\n",
       "      <th>2106</th>\n",
       "      <td>False</td>\n",
       "      <td>False</td>\n",
       "      <td>False</td>\n",
       "      <td>False</td>\n",
       "      <td>False</td>\n",
       "      <td>False</td>\n",
       "      <td>False</td>\n",
       "      <td>False</td>\n",
       "      <td>False</td>\n",
       "      <td>False</td>\n",
       "      <td>False</td>\n",
       "      <td>False</td>\n",
       "      <td>False</td>\n",
       "      <td>False</td>\n",
       "      <td>False</td>\n",
       "      <td>False</td>\n",
       "      <td>False</td>\n",
       "    </tr>\n",
       "    <tr>\n",
       "      <th>2107</th>\n",
       "      <td>False</td>\n",
       "      <td>False</td>\n",
       "      <td>False</td>\n",
       "      <td>False</td>\n",
       "      <td>False</td>\n",
       "      <td>False</td>\n",
       "      <td>False</td>\n",
       "      <td>False</td>\n",
       "      <td>False</td>\n",
       "      <td>False</td>\n",
       "      <td>False</td>\n",
       "      <td>False</td>\n",
       "      <td>False</td>\n",
       "      <td>False</td>\n",
       "      <td>False</td>\n",
       "      <td>False</td>\n",
       "      <td>False</td>\n",
       "    </tr>\n",
       "    <tr>\n",
       "      <th>2108</th>\n",
       "      <td>False</td>\n",
       "      <td>False</td>\n",
       "      <td>False</td>\n",
       "      <td>False</td>\n",
       "      <td>False</td>\n",
       "      <td>False</td>\n",
       "      <td>False</td>\n",
       "      <td>False</td>\n",
       "      <td>False</td>\n",
       "      <td>False</td>\n",
       "      <td>False</td>\n",
       "      <td>False</td>\n",
       "      <td>False</td>\n",
       "      <td>False</td>\n",
       "      <td>False</td>\n",
       "      <td>False</td>\n",
       "      <td>False</td>\n",
       "    </tr>\n",
       "    <tr>\n",
       "      <th>2109</th>\n",
       "      <td>False</td>\n",
       "      <td>False</td>\n",
       "      <td>False</td>\n",
       "      <td>False</td>\n",
       "      <td>False</td>\n",
       "      <td>False</td>\n",
       "      <td>False</td>\n",
       "      <td>False</td>\n",
       "      <td>False</td>\n",
       "      <td>False</td>\n",
       "      <td>False</td>\n",
       "      <td>False</td>\n",
       "      <td>False</td>\n",
       "      <td>False</td>\n",
       "      <td>False</td>\n",
       "      <td>False</td>\n",
       "      <td>False</td>\n",
       "    </tr>\n",
       "    <tr>\n",
       "      <th>2110</th>\n",
       "      <td>False</td>\n",
       "      <td>False</td>\n",
       "      <td>False</td>\n",
       "      <td>False</td>\n",
       "      <td>False</td>\n",
       "      <td>False</td>\n",
       "      <td>False</td>\n",
       "      <td>False</td>\n",
       "      <td>False</td>\n",
       "      <td>False</td>\n",
       "      <td>False</td>\n",
       "      <td>False</td>\n",
       "      <td>False</td>\n",
       "      <td>False</td>\n",
       "      <td>False</td>\n",
       "      <td>False</td>\n",
       "      <td>False</td>\n",
       "    </tr>\n",
       "  </tbody>\n",
       "</table>\n",
       "<p>2111 rows × 17 columns</p>\n",
       "</div>"
      ],
      "text/plain": [
       "      Gender    Age  Height  Weight  family_history_with_overweight   FAVC  \\\n",
       "0      False  False   False   False                           False  False   \n",
       "1      False  False   False   False                           False  False   \n",
       "2      False  False   False   False                           False  False   \n",
       "3      False  False   False   False                           False  False   \n",
       "4      False  False   False   False                           False  False   \n",
       "...      ...    ...     ...     ...                             ...    ...   \n",
       "2106   False  False   False   False                           False  False   \n",
       "2107   False  False   False   False                           False  False   \n",
       "2108   False  False   False   False                           False  False   \n",
       "2109   False  False   False   False                           False  False   \n",
       "2110   False  False   False   False                           False  False   \n",
       "\n",
       "       FCVC    NCP   CAEC  SMOKE   CH2O    SCC    FAF    TUE   CALC  MTRANS  \\\n",
       "0     False  False  False  False  False  False  False  False  False   False   \n",
       "1     False  False  False  False  False  False  False  False  False   False   \n",
       "2     False  False  False  False  False  False  False  False  False   False   \n",
       "3     False  False  False  False  False  False  False  False  False   False   \n",
       "4     False  False  False  False  False  False  False  False  False   False   \n",
       "...     ...    ...    ...    ...    ...    ...    ...    ...    ...     ...   \n",
       "2106  False  False  False  False  False  False  False  False  False   False   \n",
       "2107  False  False  False  False  False  False  False  False  False   False   \n",
       "2108  False  False  False  False  False  False  False  False  False   False   \n",
       "2109  False  False  False  False  False  False  False  False  False   False   \n",
       "2110  False  False  False  False  False  False  False  False  False   False   \n",
       "\n",
       "      Obesity levels  \n",
       "0              False  \n",
       "1              False  \n",
       "2              False  \n",
       "3              False  \n",
       "4              False  \n",
       "...              ...  \n",
       "2106           False  \n",
       "2107           False  \n",
       "2108           False  \n",
       "2109           False  \n",
       "2110           False  \n",
       "\n",
       "[2111 rows x 17 columns]"
      ]
     },
     "execution_count": 32,
     "metadata": {},
     "output_type": "execute_result"
    }
   ],
   "source": [
    "obesity.isnull() #Let's see if there are any missing values in the data set."
   ]
  },
  {
   "cell_type": "code",
   "execution_count": 33,
   "metadata": {},
   "outputs": [
    {
     "data": {
      "text/html": [
       "<div>\n",
       "<style scoped>\n",
       "    .dataframe tbody tr th:only-of-type {\n",
       "        vertical-align: middle;\n",
       "    }\n",
       "\n",
       "    .dataframe tbody tr th {\n",
       "        vertical-align: top;\n",
       "    }\n",
       "\n",
       "    .dataframe thead th {\n",
       "        text-align: right;\n",
       "    }\n",
       "</style>\n",
       "<table border=\"1\" class=\"dataframe\">\n",
       "  <thead>\n",
       "    <tr style=\"text-align: right;\">\n",
       "      <th></th>\n",
       "      <th>Gender</th>\n",
       "      <th>Age</th>\n",
       "      <th>Height</th>\n",
       "      <th>Weight</th>\n",
       "      <th>family_history_with_overweight</th>\n",
       "      <th>FAVC</th>\n",
       "      <th>FCVC</th>\n",
       "      <th>NCP</th>\n",
       "      <th>CAEC</th>\n",
       "      <th>SMOKE</th>\n",
       "      <th>CH2O</th>\n",
       "      <th>SCC</th>\n",
       "      <th>FAF</th>\n",
       "      <th>TUE</th>\n",
       "      <th>CALC</th>\n",
       "      <th>MTRANS</th>\n",
       "      <th>Obesity levels</th>\n",
       "    </tr>\n",
       "  </thead>\n",
       "  <tbody>\n",
       "    <tr>\n",
       "      <th>0</th>\n",
       "      <td>Female</td>\n",
       "      <td>21.000000</td>\n",
       "      <td>1.620000</td>\n",
       "      <td>64.000000</td>\n",
       "      <td>yes</td>\n",
       "      <td>no</td>\n",
       "      <td>2.0</td>\n",
       "      <td>3.0</td>\n",
       "      <td>Sometimes</td>\n",
       "      <td>no</td>\n",
       "      <td>2.000000</td>\n",
       "      <td>no</td>\n",
       "      <td>0.000000</td>\n",
       "      <td>1.000000</td>\n",
       "      <td>no</td>\n",
       "      <td>Public_Transportation</td>\n",
       "      <td>Normal_Weight</td>\n",
       "    </tr>\n",
       "    <tr>\n",
       "      <th>1</th>\n",
       "      <td>Female</td>\n",
       "      <td>21.000000</td>\n",
       "      <td>1.520000</td>\n",
       "      <td>56.000000</td>\n",
       "      <td>yes</td>\n",
       "      <td>no</td>\n",
       "      <td>3.0</td>\n",
       "      <td>3.0</td>\n",
       "      <td>Sometimes</td>\n",
       "      <td>yes</td>\n",
       "      <td>3.000000</td>\n",
       "      <td>yes</td>\n",
       "      <td>3.000000</td>\n",
       "      <td>0.000000</td>\n",
       "      <td>Sometimes</td>\n",
       "      <td>Public_Transportation</td>\n",
       "      <td>Normal_Weight</td>\n",
       "    </tr>\n",
       "    <tr>\n",
       "      <th>2</th>\n",
       "      <td>Male</td>\n",
       "      <td>23.000000</td>\n",
       "      <td>1.800000</td>\n",
       "      <td>77.000000</td>\n",
       "      <td>yes</td>\n",
       "      <td>no</td>\n",
       "      <td>2.0</td>\n",
       "      <td>3.0</td>\n",
       "      <td>Sometimes</td>\n",
       "      <td>no</td>\n",
       "      <td>2.000000</td>\n",
       "      <td>no</td>\n",
       "      <td>2.000000</td>\n",
       "      <td>1.000000</td>\n",
       "      <td>Frequently</td>\n",
       "      <td>Public_Transportation</td>\n",
       "      <td>Normal_Weight</td>\n",
       "    </tr>\n",
       "    <tr>\n",
       "      <th>3</th>\n",
       "      <td>Male</td>\n",
       "      <td>27.000000</td>\n",
       "      <td>1.800000</td>\n",
       "      <td>87.000000</td>\n",
       "      <td>no</td>\n",
       "      <td>no</td>\n",
       "      <td>3.0</td>\n",
       "      <td>3.0</td>\n",
       "      <td>Sometimes</td>\n",
       "      <td>no</td>\n",
       "      <td>2.000000</td>\n",
       "      <td>no</td>\n",
       "      <td>2.000000</td>\n",
       "      <td>0.000000</td>\n",
       "      <td>Frequently</td>\n",
       "      <td>Walking</td>\n",
       "      <td>Overweight_Level_I</td>\n",
       "    </tr>\n",
       "    <tr>\n",
       "      <th>4</th>\n",
       "      <td>Male</td>\n",
       "      <td>22.000000</td>\n",
       "      <td>1.780000</td>\n",
       "      <td>89.800000</td>\n",
       "      <td>no</td>\n",
       "      <td>no</td>\n",
       "      <td>2.0</td>\n",
       "      <td>1.0</td>\n",
       "      <td>Sometimes</td>\n",
       "      <td>no</td>\n",
       "      <td>2.000000</td>\n",
       "      <td>no</td>\n",
       "      <td>0.000000</td>\n",
       "      <td>0.000000</td>\n",
       "      <td>Sometimes</td>\n",
       "      <td>Public_Transportation</td>\n",
       "      <td>Overweight_Level_II</td>\n",
       "    </tr>\n",
       "    <tr>\n",
       "      <th>...</th>\n",
       "      <td>...</td>\n",
       "      <td>...</td>\n",
       "      <td>...</td>\n",
       "      <td>...</td>\n",
       "      <td>...</td>\n",
       "      <td>...</td>\n",
       "      <td>...</td>\n",
       "      <td>...</td>\n",
       "      <td>...</td>\n",
       "      <td>...</td>\n",
       "      <td>...</td>\n",
       "      <td>...</td>\n",
       "      <td>...</td>\n",
       "      <td>...</td>\n",
       "      <td>...</td>\n",
       "      <td>...</td>\n",
       "      <td>...</td>\n",
       "    </tr>\n",
       "    <tr>\n",
       "      <th>2106</th>\n",
       "      <td>Female</td>\n",
       "      <td>20.976842</td>\n",
       "      <td>1.710730</td>\n",
       "      <td>131.408528</td>\n",
       "      <td>yes</td>\n",
       "      <td>yes</td>\n",
       "      <td>3.0</td>\n",
       "      <td>3.0</td>\n",
       "      <td>Sometimes</td>\n",
       "      <td>no</td>\n",
       "      <td>1.728139</td>\n",
       "      <td>no</td>\n",
       "      <td>1.676269</td>\n",
       "      <td>0.906247</td>\n",
       "      <td>Sometimes</td>\n",
       "      <td>Public_Transportation</td>\n",
       "      <td>Obesity_Type_III</td>\n",
       "    </tr>\n",
       "    <tr>\n",
       "      <th>2107</th>\n",
       "      <td>Female</td>\n",
       "      <td>21.982942</td>\n",
       "      <td>1.748584</td>\n",
       "      <td>133.742943</td>\n",
       "      <td>yes</td>\n",
       "      <td>yes</td>\n",
       "      <td>3.0</td>\n",
       "      <td>3.0</td>\n",
       "      <td>Sometimes</td>\n",
       "      <td>no</td>\n",
       "      <td>2.005130</td>\n",
       "      <td>no</td>\n",
       "      <td>1.341390</td>\n",
       "      <td>0.599270</td>\n",
       "      <td>Sometimes</td>\n",
       "      <td>Public_Transportation</td>\n",
       "      <td>Obesity_Type_III</td>\n",
       "    </tr>\n",
       "    <tr>\n",
       "      <th>2108</th>\n",
       "      <td>Female</td>\n",
       "      <td>22.524036</td>\n",
       "      <td>1.752206</td>\n",
       "      <td>133.689352</td>\n",
       "      <td>yes</td>\n",
       "      <td>yes</td>\n",
       "      <td>3.0</td>\n",
       "      <td>3.0</td>\n",
       "      <td>Sometimes</td>\n",
       "      <td>no</td>\n",
       "      <td>2.054193</td>\n",
       "      <td>no</td>\n",
       "      <td>1.414209</td>\n",
       "      <td>0.646288</td>\n",
       "      <td>Sometimes</td>\n",
       "      <td>Public_Transportation</td>\n",
       "      <td>Obesity_Type_III</td>\n",
       "    </tr>\n",
       "    <tr>\n",
       "      <th>2109</th>\n",
       "      <td>Female</td>\n",
       "      <td>24.361936</td>\n",
       "      <td>1.739450</td>\n",
       "      <td>133.346641</td>\n",
       "      <td>yes</td>\n",
       "      <td>yes</td>\n",
       "      <td>3.0</td>\n",
       "      <td>3.0</td>\n",
       "      <td>Sometimes</td>\n",
       "      <td>no</td>\n",
       "      <td>2.852339</td>\n",
       "      <td>no</td>\n",
       "      <td>1.139107</td>\n",
       "      <td>0.586035</td>\n",
       "      <td>Sometimes</td>\n",
       "      <td>Public_Transportation</td>\n",
       "      <td>Obesity_Type_III</td>\n",
       "    </tr>\n",
       "    <tr>\n",
       "      <th>2110</th>\n",
       "      <td>Female</td>\n",
       "      <td>23.664709</td>\n",
       "      <td>1.738836</td>\n",
       "      <td>133.472641</td>\n",
       "      <td>yes</td>\n",
       "      <td>yes</td>\n",
       "      <td>3.0</td>\n",
       "      <td>3.0</td>\n",
       "      <td>Sometimes</td>\n",
       "      <td>no</td>\n",
       "      <td>2.863513</td>\n",
       "      <td>no</td>\n",
       "      <td>1.026452</td>\n",
       "      <td>0.714137</td>\n",
       "      <td>Sometimes</td>\n",
       "      <td>Public_Transportation</td>\n",
       "      <td>Obesity_Type_III</td>\n",
       "    </tr>\n",
       "  </tbody>\n",
       "</table>\n",
       "<p>2111 rows × 17 columns</p>\n",
       "</div>"
      ],
      "text/plain": [
       "      Gender        Age    Height      Weight family_history_with_overweight  \\\n",
       "0     Female  21.000000  1.620000   64.000000                            yes   \n",
       "1     Female  21.000000  1.520000   56.000000                            yes   \n",
       "2       Male  23.000000  1.800000   77.000000                            yes   \n",
       "3       Male  27.000000  1.800000   87.000000                             no   \n",
       "4       Male  22.000000  1.780000   89.800000                             no   \n",
       "...      ...        ...       ...         ...                            ...   \n",
       "2106  Female  20.976842  1.710730  131.408528                            yes   \n",
       "2107  Female  21.982942  1.748584  133.742943                            yes   \n",
       "2108  Female  22.524036  1.752206  133.689352                            yes   \n",
       "2109  Female  24.361936  1.739450  133.346641                            yes   \n",
       "2110  Female  23.664709  1.738836  133.472641                            yes   \n",
       "\n",
       "     FAVC  FCVC  NCP       CAEC SMOKE      CH2O  SCC       FAF       TUE  \\\n",
       "0      no   2.0  3.0  Sometimes    no  2.000000   no  0.000000  1.000000   \n",
       "1      no   3.0  3.0  Sometimes   yes  3.000000  yes  3.000000  0.000000   \n",
       "2      no   2.0  3.0  Sometimes    no  2.000000   no  2.000000  1.000000   \n",
       "3      no   3.0  3.0  Sometimes    no  2.000000   no  2.000000  0.000000   \n",
       "4      no   2.0  1.0  Sometimes    no  2.000000   no  0.000000  0.000000   \n",
       "...   ...   ...  ...        ...   ...       ...  ...       ...       ...   \n",
       "2106  yes   3.0  3.0  Sometimes    no  1.728139   no  1.676269  0.906247   \n",
       "2107  yes   3.0  3.0  Sometimes    no  2.005130   no  1.341390  0.599270   \n",
       "2108  yes   3.0  3.0  Sometimes    no  2.054193   no  1.414209  0.646288   \n",
       "2109  yes   3.0  3.0  Sometimes    no  2.852339   no  1.139107  0.586035   \n",
       "2110  yes   3.0  3.0  Sometimes    no  2.863513   no  1.026452  0.714137   \n",
       "\n",
       "            CALC                 MTRANS       Obesity levels  \n",
       "0             no  Public_Transportation        Normal_Weight  \n",
       "1      Sometimes  Public_Transportation        Normal_Weight  \n",
       "2     Frequently  Public_Transportation        Normal_Weight  \n",
       "3     Frequently                Walking   Overweight_Level_I  \n",
       "4      Sometimes  Public_Transportation  Overweight_Level_II  \n",
       "...          ...                    ...                  ...  \n",
       "2106   Sometimes  Public_Transportation     Obesity_Type_III  \n",
       "2107   Sometimes  Public_Transportation     Obesity_Type_III  \n",
       "2108   Sometimes  Public_Transportation     Obesity_Type_III  \n",
       "2109   Sometimes  Public_Transportation     Obesity_Type_III  \n",
       "2110   Sometimes  Public_Transportation     Obesity_Type_III  \n",
       "\n",
       "[2111 rows x 17 columns]"
      ]
     },
     "execution_count": 33,
     "metadata": {},
     "output_type": "execute_result"
    }
   ],
   "source": [
    "#The data shows that there are no missing values but we will doublecheck. \n",
    "obesity.dropna()"
   ]
  },
  {
   "cell_type": "code",
   "execution_count": 34,
   "metadata": {},
   "outputs": [
    {
     "data": {
      "text/plain": [
       "(2111, 17)"
      ]
     },
     "execution_count": 34,
     "metadata": {},
     "output_type": "execute_result"
    }
   ],
   "source": [
    "obesity.shape #There are no missing values in the data set"
   ]
  },
  {
   "cell_type": "code",
   "execution_count": 35,
   "metadata": {},
   "outputs": [
    {
     "data": {
      "text/html": [
       "<div>\n",
       "<style scoped>\n",
       "    .dataframe tbody tr th:only-of-type {\n",
       "        vertical-align: middle;\n",
       "    }\n",
       "\n",
       "    .dataframe tbody tr th {\n",
       "        vertical-align: top;\n",
       "    }\n",
       "\n",
       "    .dataframe thead th {\n",
       "        text-align: right;\n",
       "    }\n",
       "</style>\n",
       "<table border=\"1\" class=\"dataframe\">\n",
       "  <thead>\n",
       "    <tr style=\"text-align: right;\">\n",
       "      <th></th>\n",
       "      <th>Age</th>\n",
       "      <th>Height</th>\n",
       "      <th>Weight</th>\n",
       "      <th>FCVC</th>\n",
       "      <th>NCP</th>\n",
       "      <th>CH2O</th>\n",
       "      <th>FAF</th>\n",
       "      <th>TUE</th>\n",
       "    </tr>\n",
       "  </thead>\n",
       "  <tbody>\n",
       "    <tr>\n",
       "      <th>Age</th>\n",
       "      <td>1.000000</td>\n",
       "      <td>-0.025958</td>\n",
       "      <td>0.202560</td>\n",
       "      <td>0.016291</td>\n",
       "      <td>-0.043944</td>\n",
       "      <td>-0.045304</td>\n",
       "      <td>-0.144938</td>\n",
       "      <td>-0.296931</td>\n",
       "    </tr>\n",
       "    <tr>\n",
       "      <th>Height</th>\n",
       "      <td>-0.025958</td>\n",
       "      <td>1.000000</td>\n",
       "      <td>0.463136</td>\n",
       "      <td>-0.038121</td>\n",
       "      <td>0.243672</td>\n",
       "      <td>0.213376</td>\n",
       "      <td>0.294709</td>\n",
       "      <td>0.051912</td>\n",
       "    </tr>\n",
       "    <tr>\n",
       "      <th>Weight</th>\n",
       "      <td>0.202560</td>\n",
       "      <td>0.463136</td>\n",
       "      <td>1.000000</td>\n",
       "      <td>0.216125</td>\n",
       "      <td>0.107469</td>\n",
       "      <td>0.200575</td>\n",
       "      <td>-0.051436</td>\n",
       "      <td>-0.071561</td>\n",
       "    </tr>\n",
       "    <tr>\n",
       "      <th>FCVC</th>\n",
       "      <td>0.016291</td>\n",
       "      <td>-0.038121</td>\n",
       "      <td>0.216125</td>\n",
       "      <td>1.000000</td>\n",
       "      <td>0.042216</td>\n",
       "      <td>0.068461</td>\n",
       "      <td>0.019939</td>\n",
       "      <td>-0.101135</td>\n",
       "    </tr>\n",
       "    <tr>\n",
       "      <th>NCP</th>\n",
       "      <td>-0.043944</td>\n",
       "      <td>0.243672</td>\n",
       "      <td>0.107469</td>\n",
       "      <td>0.042216</td>\n",
       "      <td>1.000000</td>\n",
       "      <td>0.057088</td>\n",
       "      <td>0.129504</td>\n",
       "      <td>0.036326</td>\n",
       "    </tr>\n",
       "    <tr>\n",
       "      <th>CH2O</th>\n",
       "      <td>-0.045304</td>\n",
       "      <td>0.213376</td>\n",
       "      <td>0.200575</td>\n",
       "      <td>0.068461</td>\n",
       "      <td>0.057088</td>\n",
       "      <td>1.000000</td>\n",
       "      <td>0.167236</td>\n",
       "      <td>0.011965</td>\n",
       "    </tr>\n",
       "    <tr>\n",
       "      <th>FAF</th>\n",
       "      <td>-0.144938</td>\n",
       "      <td>0.294709</td>\n",
       "      <td>-0.051436</td>\n",
       "      <td>0.019939</td>\n",
       "      <td>0.129504</td>\n",
       "      <td>0.167236</td>\n",
       "      <td>1.000000</td>\n",
       "      <td>0.058562</td>\n",
       "    </tr>\n",
       "    <tr>\n",
       "      <th>TUE</th>\n",
       "      <td>-0.296931</td>\n",
       "      <td>0.051912</td>\n",
       "      <td>-0.071561</td>\n",
       "      <td>-0.101135</td>\n",
       "      <td>0.036326</td>\n",
       "      <td>0.011965</td>\n",
       "      <td>0.058562</td>\n",
       "      <td>1.000000</td>\n",
       "    </tr>\n",
       "  </tbody>\n",
       "</table>\n",
       "</div>"
      ],
      "text/plain": [
       "             Age    Height    Weight      FCVC       NCP      CH2O       FAF  \\\n",
       "Age     1.000000 -0.025958  0.202560  0.016291 -0.043944 -0.045304 -0.144938   \n",
       "Height -0.025958  1.000000  0.463136 -0.038121  0.243672  0.213376  0.294709   \n",
       "Weight  0.202560  0.463136  1.000000  0.216125  0.107469  0.200575 -0.051436   \n",
       "FCVC    0.016291 -0.038121  0.216125  1.000000  0.042216  0.068461  0.019939   \n",
       "NCP    -0.043944  0.243672  0.107469  0.042216  1.000000  0.057088  0.129504   \n",
       "CH2O   -0.045304  0.213376  0.200575  0.068461  0.057088  1.000000  0.167236   \n",
       "FAF    -0.144938  0.294709 -0.051436  0.019939  0.129504  0.167236  1.000000   \n",
       "TUE    -0.296931  0.051912 -0.071561 -0.101135  0.036326  0.011965  0.058562   \n",
       "\n",
       "             TUE  \n",
       "Age    -0.296931  \n",
       "Height  0.051912  \n",
       "Weight -0.071561  \n",
       "FCVC   -0.101135  \n",
       "NCP     0.036326  \n",
       "CH2O    0.011965  \n",
       "FAF     0.058562  \n",
       "TUE     1.000000  "
      ]
     },
     "execution_count": 35,
     "metadata": {},
     "output_type": "execute_result"
    }
   ],
   "source": [
    "obesity.corr() # It seems that there are no strong correlations between columns, which is good!\n"
   ]
  },
  {
   "cell_type": "code",
   "execution_count": 36,
   "metadata": {},
   "outputs": [],
   "source": [
    "import pandas as pd\n",
    "from scipy import stats\n",
    "#Chi-Square to check the relationship between obesity level & categorical variables:"
   ]
  },
  {
   "cell_type": "code",
   "execution_count": 37,
   "metadata": {},
   "outputs": [
    {
     "data": {
      "text/plain": [
       "(657.746227342968,\n",
       " 8.088897293329991e-139,\n",
       " 6,\n",
       " array([[134.38938892, 137.61061108],\n",
       "        [141.80056845, 145.19943155],\n",
       "        [173.42160114, 177.57839886],\n",
       "        [146.74135481, 150.25864519],\n",
       "        [160.08147797, 163.91852203],\n",
       "        [143.28280436, 146.71719564],\n",
       "        [143.28280436, 146.71719564]]))"
      ]
     },
     "execution_count": 37,
     "metadata": {},
     "output_type": "execute_result"
    }
   ],
   "source": [
    "#Chi-Square to check the relationship between Gender and Obesity levels\n",
    "crosstab = pd.crosstab(obesity['Obesity levels'], obesity['Gender'])\n",
    "crosstab\n",
    "stats.chi2_contingency(crosstab)\n",
    "#We can reject the null hypothesis as the p-value is less than 0.05. Thus, the results indicate that there is a relationship between Gender and Obisity Levels."
   ]
  },
  {
   "cell_type": "code",
   "execution_count": 38,
   "metadata": {},
   "outputs": [
    {
     "data": {
      "text/plain": [
       "(621.9794353945298,\n",
       " 4.2280167944702657e-131,\n",
       " 6,\n",
       " array([[ 49.60682141, 222.39317859],\n",
       "        [ 52.34249171, 234.65750829],\n",
       "        [ 64.01468498, 286.98531502],\n",
       "        [ 54.16627191, 242.83372809],\n",
       "        [ 59.09047845, 264.90952155],\n",
       "        [ 52.88962577, 237.11037423],\n",
       "        [ 52.88962577, 237.11037423]]))"
      ]
     },
     "execution_count": 38,
     "metadata": {},
     "output_type": "execute_result"
    }
   ],
   "source": [
    "\n",
    "crosstab = pd.crosstab(obesity['Obesity levels'], obesity['family_history_with_overweight'])\n",
    "crosstab\n",
    "stats.chi2_contingency(crosstab)\n",
    "##We can reject the null hypothesis as the p-value is less than 0.05. Thus, the results indicate that there is a relationship between family_history_with_overweight and Obisity Levels."
   ]
  },
  {
   "cell_type": "code",
   "execution_count": 39,
   "metadata": {},
   "outputs": [
    {
     "data": {
      "text/plain": [
       "(233.34130356133423,\n",
       " 1.4822362082358762e-47,\n",
       " 6,\n",
       " array([[ 31.56797726, 240.43202274],\n",
       "        [ 33.30885836, 253.69114164],\n",
       "        [ 40.73661772, 310.26338228],\n",
       "        [ 34.46944576, 262.53055424],\n",
       "        [ 37.60303174, 286.39696826],\n",
       "        [ 33.65703458, 256.34296542],\n",
       "        [ 33.65703458, 256.34296542]]))"
      ]
     },
     "execution_count": 39,
     "metadata": {},
     "output_type": "execute_result"
    }
   ],
   "source": [
    "crosstab = pd.crosstab(obesity['Obesity levels'], obesity['FAVC'])\n",
    "crosstab\n",
    "stats.chi2_contingency(crosstab)\n",
    "##We can reject the null hypothesis as the p-value is less than 0.05. Thus, the results indicate that there is a relationship between FAVC and Obisity Levels."
   ]
  },
  {
   "cell_type": "code",
   "execution_count": 40,
   "metadata": {},
   "outputs": [
    {
     "data": {
      "text/plain": [
       "(802.9772817566468,\n",
       " 7.383852893286775e-159,\n",
       " 18,\n",
       " array([[  6.828991  ,  31.1814306 , 227.41828517,   6.57129323],\n",
       "        [  7.20558977,  32.90099479, 239.95973472,   6.93368072],\n",
       "        [  8.81241118,  40.23780199, 293.46991947,   8.47986736],\n",
       "        [  7.45665561,  34.04737091, 248.32070109,   7.17527238],\n",
       "        [  8.1345334 ,  37.14258645, 270.89531028,   7.82756987],\n",
       "        [  7.28090952,  33.24490763, 242.46802463,   7.00615822],\n",
       "        [  7.28090952,  33.24490763, 242.46802463,   7.00615822]]))"
      ]
     },
     "execution_count": 40,
     "metadata": {},
     "output_type": "execute_result"
    }
   ],
   "source": [
    "crosstab = pd.crosstab(obesity['Obesity levels'], obesity['CAEC'])\n",
    "crosstab\n",
    "stats.chi2_contingency(crosstab)\n",
    "##We can reject the null hypothesis as the p-value is less than 0.05. Thus, the results indicate that there is a relationship between CAEC and Obisity Levels."
   ]
  },
  {
   "cell_type": "code",
   "execution_count": 41,
   "metadata": {},
   "outputs": [
    {
     "data": {
      "text/plain": [
       "(32.13783205600177,\n",
       " 1.5354243135096318e-05,\n",
       " 6,\n",
       " array([[266.33064898,   5.66935102],\n",
       "        [281.01800095,   5.98199905],\n",
       "        [343.684036  ,   7.315964  ],\n",
       "        [290.80956892,   6.19043108],\n",
       "        [317.24680246,   6.75319754],\n",
       "        [283.95547134,   6.04452866],\n",
       "        [283.95547134,   6.04452866]]))"
      ]
     },
     "execution_count": 41,
     "metadata": {},
     "output_type": "execute_result"
    }
   ],
   "source": [
    "crosstab = pd.crosstab(obesity['Obesity levels'], obesity['SMOKE'])\n",
    "crosstab\n",
    "stats.chi2_contingency(crosstab)\n",
    "##We can reject the null hypothesis as the p-value is less than 0.05. Thus, the results indicate that there is a relationship between SMOKE and Obisity Levels."
   ]
  },
  {
   "cell_type": "code",
   "execution_count": 42,
   "metadata": {},
   "outputs": [
    {
     "data": {
      "text/plain": [
       "(123.02389868912441,\n",
       " 3.773175792377203e-24,\n",
       " 6,\n",
       " array([[259.63050687,  12.36949313],\n",
       "        [273.9483657 ,  13.0516343 ],\n",
       "        [335.03789673,  15.96210327],\n",
       "        [283.49360493,  13.50639507],\n",
       "        [309.26575083,  14.73424917],\n",
       "        [276.81193747,  13.18806253],\n",
       "        [276.81193747,  13.18806253]]))"
      ]
     },
     "execution_count": 42,
     "metadata": {},
     "output_type": "execute_result"
    }
   ],
   "source": [
    "crosstab = pd.crosstab(obesity['Obesity levels'], obesity['SCC'])\n",
    "crosstab\n",
    "stats.chi2_contingency(crosstab)\n",
    "##We can reject the null hypothesis as the p-value is less than 0.05. Thus, the results indicate that there is a relationship between SCC and Obisity Levels."
   ]
  },
  {
   "cell_type": "code",
   "execution_count": 43,
   "metadata": {},
   "outputs": [
    {
     "data": {
      "text/plain": [
       "(338.5775202939281,\n",
       " 5.287157877798321e-61,\n",
       " 18,\n",
       " array([[1.28848887e-01, 9.01942207e+00, 1.80517290e+02, 8.23344387e+01],\n",
       "        [1.35954524e-01, 9.51681667e+00, 1.90472288e+02, 8.68749408e+01],\n",
       "        [1.66271909e-01, 1.16390336e+01, 2.32946945e+02, 1.06247750e+02],\n",
       "        [1.40691615e-01, 9.84841307e+00, 1.97108953e+02, 8.99019422e+01],\n",
       "        [1.53481762e-01, 1.07437234e+01, 2.15027949e+02, 9.80748460e+01],\n",
       "        [1.37375651e-01, 9.61629559e+00, 1.92463288e+02, 8.77830412e+01],\n",
       "        [1.37375651e-01, 9.61629559e+00, 1.92463288e+02, 8.77830412e+01]]))"
      ]
     },
     "execution_count": 43,
     "metadata": {},
     "output_type": "execute_result"
    }
   ],
   "source": [
    "crosstab = pd.crosstab(obesity['Obesity levels'], obesity['CALC'])\n",
    "crosstab\n",
    "stats.chi2_contingency(crosstab)\n",
    "##We can reject the null hypothesis as the p-value is less than 0.05. Thus, the results indicate that there is a relationship between CALC and Obisity Levels."
   ]
  },
  {
   "cell_type": "code",
   "execution_count": 44,
   "metadata": {},
   "outputs": [
    {
     "data": {
      "text/plain": [
       "(292.5939481316799,\n",
       " 5.1779152038359274e-48,\n",
       " 24,\n",
       " array([[ 58.88394126,   0.90194221,   1.41733775, 203.58124112,\n",
       "           7.21553766],\n",
       "        [ 62.13121743,   0.95168167,   1.49549976, 214.8081478 ,\n",
       "           7.61345334],\n",
       "        [ 75.98626243,   1.16390336,   1.828991  , 262.7096163 ,\n",
       "           9.31122691],\n",
       "        [ 64.29606821,   0.98484131,   1.54760777, 222.29275225,\n",
       "           7.87873046],\n",
       "        [ 70.14116532,   1.07437234,   1.68829938, 242.50118427,\n",
       "           8.59497868],\n",
       "        [ 62.78067267,   0.96162956,   1.51113216, 217.05352913,\n",
       "           7.69303648],\n",
       "        [ 62.78067267,   0.96162956,   1.51113216, 217.05352913,\n",
       "           7.69303648]]))"
      ]
     },
     "execution_count": 44,
     "metadata": {},
     "output_type": "execute_result"
    }
   ],
   "source": [
    "crosstab = pd.crosstab(obesity['Obesity levels'], obesity['MTRANS'])\n",
    "crosstab\n",
    "stats.chi2_contingency(crosstab)\n",
    "##We can reject the null hypothesis as the p-value is less than 0.05. Thus, the results indicate that there is a relationship between MTRANS and Obisity Levels."
   ]
  },
  {
   "cell_type": "code",
   "execution_count": 45,
   "metadata": {},
   "outputs": [
    {
     "data": {
      "text/plain": [
       "0             Normal_Weight\n",
       "1             Normal_Weight\n",
       "2             Normal_Weight\n",
       "3        Overweight_Level_I\n",
       "4       Overweight_Level_II\n",
       "               ...         \n",
       "2106       Obesity_Type_III\n",
       "2107       Obesity_Type_III\n",
       "2108       Obesity_Type_III\n",
       "2109       Obesity_Type_III\n",
       "2110       Obesity_Type_III\n",
       "Name: Obesity levels, Length: 2111, dtype: category\n",
       "Categories (7, object): [Insufficient_Weight, Normal_Weight, Obesity_Type_I, Obesity_Type_II, Obesity_Type_III, Overweight_Level_I, Overweight_Level_II]"
      ]
     },
     "execution_count": 45,
     "metadata": {},
     "output_type": "execute_result"
    }
   ],
   "source": [
    "#lets get the class label/target attribute\n",
    "y= obesity['Obesity levels'].astype('category')\n",
    "y"
   ]
  },
  {
   "cell_type": "code",
   "execution_count": 46,
   "metadata": {},
   "outputs": [
    {
     "data": {
      "text/plain": [
       "0       1\n",
       "1       1\n",
       "2       1\n",
       "3       5\n",
       "4       6\n",
       "       ..\n",
       "2106    4\n",
       "2107    4\n",
       "2108    4\n",
       "2109    4\n",
       "2110    4\n",
       "Length: 2111, dtype: int8"
      ]
     },
     "execution_count": 46,
     "metadata": {},
     "output_type": "execute_result"
    }
   ],
   "source": [
    "#Let's label code the class label/target attribute\n",
    "y = y.cat.codes\n",
    "y"
   ]
  },
  {
   "cell_type": "code",
   "execution_count": 47,
   "metadata": {},
   "outputs": [
    {
     "data": {
      "text/plain": [
       "array([['Female', 21.0, 1.62, ..., 1.0, 'no', 'Public_Transportation'],\n",
       "       ['Female', 21.0, 1.52, ..., 0.0, 'Sometimes',\n",
       "        'Public_Transportation'],\n",
       "       ['Male', 23.0, 1.8, ..., 1.0, 'Frequently',\n",
       "        'Public_Transportation'],\n",
       "       ...,\n",
       "       ['Female', 22.524036, 1.7522060000000002, ..., 0.646288,\n",
       "        'Sometimes', 'Public_Transportation'],\n",
       "       ['Female', 24.361936, 1.73945, ..., 0.5860350000000001,\n",
       "        'Sometimes', 'Public_Transportation'],\n",
       "       ['Female', 23.664709, 1.738836, ..., 0.714137, 'Sometimes',\n",
       "        'Public_Transportation']], dtype=object)"
      ]
     },
     "execution_count": 47,
     "metadata": {},
     "output_type": "execute_result"
    }
   ],
   "source": [
    "#Lets get all other attributes beside class label/target attribute out of dataframe\n",
    "x = obesity.iloc[:, :-1].values\n",
    "x"
   ]
  },
  {
   "cell_type": "code",
   "execution_count": 48,
   "metadata": {},
   "outputs": [],
   "source": [
    "#Converting yes/no columns into binary values\n",
    "from sklearn.preprocessing import LabelEncoder\n",
    "labelencoder = LabelEncoder()"
   ]
  },
  {
   "cell_type": "code",
   "execution_count": 49,
   "metadata": {},
   "outputs": [],
   "source": [
    "family_history = labelencoder.fit_transform(obesity[\"family_history_with_overweight\"])\n",
    "FAVC = labelencoder.fit_transform(obesity[\"FAVC\"])\n",
    "SMOKE = labelencoder.fit_transform(obesity[\"SMOKE\"])\n",
    "SCC = labelencoder.fit_transform(obesity[\"SCC\"])"
   ]
  },
  {
   "cell_type": "code",
   "execution_count": 50,
   "metadata": {},
   "outputs": [],
   "source": [
    "family_history = pd.DataFrame(family_history).astype(int)\n",
    "FAVC = pd.DataFrame(FAVC).astype(int)\n",
    "SMOKE = pd.DataFrame(SMOKE).astype(int)\n",
    "SCC = pd.DataFrame(SCC).astype(int)"
   ]
  },
  {
   "cell_type": "code",
   "execution_count": 51,
   "metadata": {},
   "outputs": [],
   "source": [
    "#Converting all categorical columns in term of one hot encoding \n",
    "from sklearn.preprocessing import OneHotEncoder"
   ]
  },
  {
   "cell_type": "code",
   "execution_count": 52,
   "metadata": {},
   "outputs": [],
   "source": [
    "gender = OneHotEncoder().fit_transform(obesity[['Gender']]).toarray()\n",
    "CAEC = OneHotEncoder().fit_transform(obesity[['CAEC']]).toarray()\n",
    "CALC = OneHotEncoder().fit_transform(obesity[['CALC']]).toarray()\n",
    "MTRANS = OneHotEncoder().fit_transform(obesity[['MTRANS']]).toarray()"
   ]
  },
  {
   "cell_type": "code",
   "execution_count": 53,
   "metadata": {},
   "outputs": [],
   "source": [
    "gender = pd.DataFrame(gender).astype(int)\n",
    "CAEC = pd.DataFrame(CAEC).astype(int)\n",
    "CALC = pd.DataFrame(CALC).astype(int)\n",
    "MTRANS = pd.DataFrame(MTRANS).astype(int)"
   ]
  },
  {
   "cell_type": "code",
   "execution_count": 54,
   "metadata": {},
   "outputs": [
    {
     "data": {
      "text/html": [
       "<div>\n",
       "<style scoped>\n",
       "    .dataframe tbody tr th:only-of-type {\n",
       "        vertical-align: middle;\n",
       "    }\n",
       "\n",
       "    .dataframe tbody tr th {\n",
       "        vertical-align: top;\n",
       "    }\n",
       "\n",
       "    .dataframe thead th {\n",
       "        text-align: right;\n",
       "    }\n",
       "</style>\n",
       "<table border=\"1\" class=\"dataframe\">\n",
       "  <thead>\n",
       "    <tr style=\"text-align: right;\">\n",
       "      <th></th>\n",
       "      <th>0</th>\n",
       "      <th>1</th>\n",
       "      <th>Age</th>\n",
       "      <th>Height</th>\n",
       "      <th>Weight</th>\n",
       "      <th>0</th>\n",
       "      <th>0</th>\n",
       "      <th>FCVC</th>\n",
       "      <th>NCP</th>\n",
       "      <th>0</th>\n",
       "      <th>...</th>\n",
       "      <th>TUE</th>\n",
       "      <th>0</th>\n",
       "      <th>1</th>\n",
       "      <th>2</th>\n",
       "      <th>3</th>\n",
       "      <th>0</th>\n",
       "      <th>1</th>\n",
       "      <th>2</th>\n",
       "      <th>3</th>\n",
       "      <th>4</th>\n",
       "    </tr>\n",
       "  </thead>\n",
       "  <tbody>\n",
       "    <tr>\n",
       "      <th>0</th>\n",
       "      <td>1</td>\n",
       "      <td>0</td>\n",
       "      <td>21.0</td>\n",
       "      <td>1.62</td>\n",
       "      <td>64.0</td>\n",
       "      <td>1</td>\n",
       "      <td>0</td>\n",
       "      <td>2.0</td>\n",
       "      <td>3.0</td>\n",
       "      <td>0</td>\n",
       "      <td>...</td>\n",
       "      <td>1.0</td>\n",
       "      <td>0</td>\n",
       "      <td>0</td>\n",
       "      <td>0</td>\n",
       "      <td>1</td>\n",
       "      <td>0</td>\n",
       "      <td>0</td>\n",
       "      <td>0</td>\n",
       "      <td>1</td>\n",
       "      <td>0</td>\n",
       "    </tr>\n",
       "    <tr>\n",
       "      <th>1</th>\n",
       "      <td>1</td>\n",
       "      <td>0</td>\n",
       "      <td>21.0</td>\n",
       "      <td>1.52</td>\n",
       "      <td>56.0</td>\n",
       "      <td>1</td>\n",
       "      <td>0</td>\n",
       "      <td>3.0</td>\n",
       "      <td>3.0</td>\n",
       "      <td>0</td>\n",
       "      <td>...</td>\n",
       "      <td>0.0</td>\n",
       "      <td>0</td>\n",
       "      <td>0</td>\n",
       "      <td>1</td>\n",
       "      <td>0</td>\n",
       "      <td>0</td>\n",
       "      <td>0</td>\n",
       "      <td>0</td>\n",
       "      <td>1</td>\n",
       "      <td>0</td>\n",
       "    </tr>\n",
       "    <tr>\n",
       "      <th>2</th>\n",
       "      <td>0</td>\n",
       "      <td>1</td>\n",
       "      <td>23.0</td>\n",
       "      <td>1.80</td>\n",
       "      <td>77.0</td>\n",
       "      <td>1</td>\n",
       "      <td>0</td>\n",
       "      <td>2.0</td>\n",
       "      <td>3.0</td>\n",
       "      <td>0</td>\n",
       "      <td>...</td>\n",
       "      <td>1.0</td>\n",
       "      <td>0</td>\n",
       "      <td>1</td>\n",
       "      <td>0</td>\n",
       "      <td>0</td>\n",
       "      <td>0</td>\n",
       "      <td>0</td>\n",
       "      <td>0</td>\n",
       "      <td>1</td>\n",
       "      <td>0</td>\n",
       "    </tr>\n",
       "    <tr>\n",
       "      <th>3</th>\n",
       "      <td>0</td>\n",
       "      <td>1</td>\n",
       "      <td>27.0</td>\n",
       "      <td>1.80</td>\n",
       "      <td>87.0</td>\n",
       "      <td>0</td>\n",
       "      <td>0</td>\n",
       "      <td>3.0</td>\n",
       "      <td>3.0</td>\n",
       "      <td>0</td>\n",
       "      <td>...</td>\n",
       "      <td>0.0</td>\n",
       "      <td>0</td>\n",
       "      <td>1</td>\n",
       "      <td>0</td>\n",
       "      <td>0</td>\n",
       "      <td>0</td>\n",
       "      <td>0</td>\n",
       "      <td>0</td>\n",
       "      <td>0</td>\n",
       "      <td>1</td>\n",
       "    </tr>\n",
       "    <tr>\n",
       "      <th>4</th>\n",
       "      <td>0</td>\n",
       "      <td>1</td>\n",
       "      <td>22.0</td>\n",
       "      <td>1.78</td>\n",
       "      <td>89.8</td>\n",
       "      <td>0</td>\n",
       "      <td>0</td>\n",
       "      <td>2.0</td>\n",
       "      <td>1.0</td>\n",
       "      <td>0</td>\n",
       "      <td>...</td>\n",
       "      <td>0.0</td>\n",
       "      <td>0</td>\n",
       "      <td>0</td>\n",
       "      <td>1</td>\n",
       "      <td>0</td>\n",
       "      <td>0</td>\n",
       "      <td>0</td>\n",
       "      <td>0</td>\n",
       "      <td>1</td>\n",
       "      <td>0</td>\n",
       "    </tr>\n",
       "  </tbody>\n",
       "</table>\n",
       "<p>5 rows × 27 columns</p>\n",
       "</div>"
      ],
      "text/plain": [
       "   0  1   Age  Height  Weight  0  0  FCVC  NCP  0  ...  TUE  0  1  2  3  0  1  \\\n",
       "0  1  0  21.0    1.62    64.0  1  0   2.0  3.0  0  ...  1.0  0  0  0  1  0  0   \n",
       "1  1  0  21.0    1.52    56.0  1  0   3.0  3.0  0  ...  0.0  0  0  1  0  0  0   \n",
       "2  0  1  23.0    1.80    77.0  1  0   2.0  3.0  0  ...  1.0  0  1  0  0  0  0   \n",
       "3  0  1  27.0    1.80    87.0  0  0   3.0  3.0  0  ...  0.0  0  1  0  0  0  0   \n",
       "4  0  1  22.0    1.78    89.8  0  0   2.0  1.0  0  ...  0.0  0  0  1  0  0  0   \n",
       "\n",
       "   2  3  4  \n",
       "0  0  1  0  \n",
       "1  0  1  0  \n",
       "2  0  1  0  \n",
       "3  0  0  1  \n",
       "4  0  1  0  \n",
       "\n",
       "[5 rows x 27 columns]"
      ]
     },
     "execution_count": 54,
     "metadata": {},
     "output_type": "execute_result"
    }
   ],
   "source": [
    "# Let's combine all the new dataframes (hot encoded and labeled) into a new single dataframe\n",
    "obesity_DF = pd.concat([gender, obesity[\"Age\"], obesity[\"Height\"], obesity[\"Weight\"], family_history, FAVC, obesity[\"FCVC\"], obesity[\"NCP\"], CAEC, SMOKE, obesity[\"CH2O\"], SCC, obesity[\"FAF\"], obesity[\"TUE\"], CALC, MTRANS], axis=1)\n",
    "obesity_DF.head()\n"
   ]
  },
  {
   "cell_type": "code",
   "execution_count": 55,
   "metadata": {},
   "outputs": [
    {
     "data": {
      "text/plain": [
       "array([[ 1.      ,  0.      , 21.      , ...,  0.      ,  1.      ,\n",
       "         0.      ],\n",
       "       [ 1.      ,  0.      , 21.      , ...,  0.      ,  1.      ,\n",
       "         0.      ],\n",
       "       [ 0.      ,  1.      , 23.      , ...,  0.      ,  1.      ,\n",
       "         0.      ],\n",
       "       ...,\n",
       "       [ 1.      ,  0.      , 22.524036, ...,  0.      ,  1.      ,\n",
       "         0.      ],\n",
       "       [ 1.      ,  0.      , 24.361936, ...,  0.      ,  1.      ,\n",
       "         0.      ],\n",
       "       [ 1.      ,  0.      , 23.664709, ...,  0.      ,  1.      ,\n",
       "         0.      ]])"
      ]
     },
     "execution_count": 55,
     "metadata": {},
     "output_type": "execute_result"
    }
   ],
   "source": [
    "#Let's assign obesity_Df dataframe to X\n",
    "x = obesity_DF.values\n",
    "x"
   ]
  },
  {
   "cell_type": "code",
   "execution_count": 56,
   "metadata": {},
   "outputs": [
    {
     "data": {
      "text/plain": [
       "'\\nDividing your data into test and train set is known as smapling. Here are types of sampling:\\n1- Random sampling\\n2- Smapling with replacement\\n3- Sampling without replacement\\n4- Stratified Sampling\\n\\nReadings https://www.questionpro.com/blog/types-of-sampling-for-social-research/\\n'"
      ]
     },
     "execution_count": 56,
     "metadata": {},
     "output_type": "execute_result"
    }
   ],
   "source": [
    "\"\"\"\n",
    "Dividing your data into test and train set is known as smapling. Here are types of sampling:\n",
    "1- Random sampling\n",
    "2- Smapling with replacement\n",
    "3- Sampling without replacement\n",
    "4- Stratified Sampling\n",
    "\n",
    "Readings https://www.questionpro.com/blog/types-of-sampling-for-social-research/\n",
    "\"\"\""
   ]
  },
  {
   "cell_type": "code",
   "execution_count": 57,
   "metadata": {},
   "outputs": [
    {
     "name": "stdout",
     "output_type": "stream",
     "text": [
      "Train set: (1688, 27) (1688,)\n",
      "Test set: (423, 27) (423,)\n"
     ]
    }
   ],
   "source": [
    "# Applying data sampling with (80:20) ratio\n",
    "from sklearn.model_selection import train_test_split\n",
    "\n",
    "x_train, x_test, y_train, y_test = train_test_split( x, y, test_size=0.2, random_state=4)\n",
    "print ('Train set:', x_train.shape,  y_train.shape)\n",
    "print ('Test set:', x_test.shape,  y_test.shape)"
   ]
  },
  {
   "cell_type": "code",
   "execution_count": 58,
   "metadata": {},
   "outputs": [],
   "source": [
    "# Training our model using tree based classifier\n",
    "from sklearn import tree\n",
    "clf = tree.DecisionTreeClassifier()\n",
    "clf = clf.fit(x_train, y_train)"
   ]
  },
  {
   "cell_type": "code",
   "execution_count": 59,
   "metadata": {},
   "outputs": [
    {
     "data": {
      "text/plain": [
       "array([5, 3, 1, 6, 5, 0, 3, 6, 4, 6, 3, 6, 2, 0, 2, 3, 6, 4, 5, 4, 0, 0,\n",
       "       6, 3, 5, 2, 4, 6, 6, 5, 1, 6, 2, 3, 3, 4, 6, 1, 6, 6, 4, 1, 6, 5,\n",
       "       3, 2, 0, 0, 3, 6, 3, 3, 3, 2, 6, 4, 3, 2, 6, 1, 2, 2, 0, 4, 5, 1,\n",
       "       0, 3, 0, 4, 4, 2, 4, 6, 3, 0, 3, 0, 5, 2, 6, 2, 2, 0, 0, 6, 1, 3,\n",
       "       6, 4, 3, 4, 2, 2, 4, 5, 3, 2, 3, 1, 0, 5, 1, 4, 6, 0, 5, 2, 0, 3,\n",
       "       4, 4, 2, 3, 4, 4, 6, 1, 1, 5, 2, 4, 3, 3, 1, 6, 3, 6, 4, 5, 1, 1,\n",
       "       5, 4, 3, 6, 6, 6, 4, 5, 5, 3, 2, 3, 6, 4, 1, 6, 4, 4, 5, 5, 4, 4,\n",
       "       6, 3, 0, 0, 3, 1, 4, 6, 3, 5, 2, 2, 5, 4, 2, 4, 3, 5, 5, 1, 3, 4,\n",
       "       4, 5, 3, 3, 1, 4, 5, 6, 2, 2, 6, 3, 4, 4, 3, 5, 2, 6, 1, 1, 1, 1,\n",
       "       1, 2, 3, 3, 0, 4, 6, 5, 0, 5, 4, 4, 2, 6, 2, 5, 6, 5, 4, 2, 0, 3,\n",
       "       2, 2, 1, 4, 1, 1, 5, 6, 5, 5, 0, 6, 2, 0, 0, 2, 4, 3, 0, 1, 5, 2,\n",
       "       6, 1, 6, 4, 2, 0, 4, 4, 6, 3, 3, 3, 3, 6, 3, 3, 1, 0, 1, 0, 0, 5,\n",
       "       4, 2, 3, 1, 3, 4, 5, 0, 5, 2, 6, 1, 0, 6, 3, 3, 4, 2, 1, 6, 1, 3,\n",
       "       2, 6, 3, 5, 4, 5, 4, 1, 1, 6, 1, 2, 4, 2, 0, 0, 0, 2, 2, 2, 1, 2,\n",
       "       1, 0, 2, 2, 5, 4, 3, 1, 6, 5, 6, 0, 0, 1, 1, 2, 5, 4, 2, 6, 2, 3,\n",
       "       0, 6, 1, 2, 6, 6, 4, 2, 4, 1, 6, 4, 6, 5, 0, 3, 0, 2, 5, 3, 0, 3,\n",
       "       1, 0, 0, 1, 0, 1, 4, 0, 0, 3, 1, 5, 3, 2, 2, 1, 3, 4, 5, 0, 2, 4,\n",
       "       3, 4, 0, 6, 2, 0, 3, 4, 0, 4, 5, 2, 4, 2, 0, 6, 5, 1, 5, 4, 2, 1,\n",
       "       3, 3, 4, 2, 4, 3, 1, 6, 4, 3, 5, 3, 4, 6, 1, 0, 6, 4, 6, 5, 2, 6,\n",
       "       6, 5, 5, 3, 5], dtype=int8)"
      ]
     },
     "execution_count": 59,
     "metadata": {},
     "output_type": "execute_result"
    }
   ],
   "source": [
    "y_predict=clf.predict(x_test)\n",
    "y_predict\n",
    "#Y_predict shows the numbers of obesity levels that model takes 0 is Insufficient_Weigh and 6 is Overweight_Level_II."
   ]
  },
  {
   "cell_type": "code",
   "execution_count": 60,
   "metadata": {},
   "outputs": [
    {
     "name": "stdout",
     "output_type": "stream",
     "text": [
      "Train set Accuracy:  1.0\n",
      "Test set Accuracy:  0.9361702127659575\n"
     ]
    }
   ],
   "source": [
    "#Accuracy evaluation\n",
    "from sklearn import metrics\n",
    "print(\"Train set Accuracy: \", metrics.accuracy_score(y_train, clf.predict(x_train)))\n",
    "print(\"Test set Accuracy: \", metrics.accuracy_score(y_test, y_predict))"
   ]
  },
  {
   "cell_type": "code",
   "execution_count": null,
   "metadata": {},
   "outputs": [],
   "source": [
    "#The Tree base model metrics accuracy evaluation give us a Train set Accuracy:  1.0 and Test set Accuracy:  0.9361702127659575."
   ]
  },
  {
   "cell_type": "code",
   "execution_count": 61,
   "metadata": {},
   "outputs": [
    {
     "name": "stdout",
     "output_type": "stream",
     "text": [
      "[[49  3  0  0  0  0  0]\n",
      " [ 3 46  0  0  0  9  0]\n",
      " [ 0  0 59  3  0  0  0]\n",
      " [ 0  0  1 66  0  0  0]\n",
      " [ 0  0  0  0 69  0  0]\n",
      " [ 0  4  0  0  0 44  1]\n",
      " [ 0  0  3  0  0  0 63]]\n"
     ]
    },
    {
     "name": "stderr",
     "output_type": "stream",
     "text": [
      "/opt/conda/envs/Python-3.7-main/lib/python3.7/site-packages/sklearn/utils/validation.py:71: FutureWarning: Pass labels=[0, 1, 2, 3, 4, 5, 6] as keyword args. From version 0.25 passing these as positional arguments will result in an error\n",
      "  FutureWarning)\n"
     ]
    }
   ],
   "source": [
    "#Confusion matrix evaluation shows in row one (0)the model predicted 49 right, in the 2nd row(1) predicted 46 right and so on.\n",
    "from sklearn.metrics import confusion_matrix\n",
    "labels=[0,1,2,3,4,5,6]\n",
    "cm=confusion_matrix(y_test,y_predict,labels)\n",
    "print(cm)"
   ]
  },
  {
   "cell_type": "code",
   "execution_count": 62,
   "metadata": {},
   "outputs": [
    {
     "data": {
      "text/plain": [
       "KNeighborsClassifier(n_neighbors=4)"
      ]
     },
     "execution_count": 62,
     "metadata": {},
     "output_type": "execute_result"
    }
   ],
   "source": [
    "#K nearest neighbor (K-NN) based classifier\n",
    "from sklearn.neighbors import KNeighborsClassifier\n",
    "k = 4\n",
    "\n",
    "#Train Model and Predict  \n",
    "neigh = KNeighborsClassifier(n_neighbors = k).fit(x_train,y_train)\n",
    "neigh"
   ]
  },
  {
   "cell_type": "code",
   "execution_count": 63,
   "metadata": {},
   "outputs": [
    {
     "data": {
      "text/plain": [
       "array([5, 3, 1, 6, 0, 0, 2, 6, 4, 6, 3, 6, 2, 0, 2, 3, 6, 4, 5, 4, 0, 0,\n",
       "       3, 3, 5, 2, 4, 5, 6, 5, 1, 6, 2, 3, 3, 4, 6, 1, 6, 6, 4, 1, 6, 5,\n",
       "       3, 2, 0, 0, 3, 6, 3, 3, 3, 2, 6, 4, 3, 2, 6, 1, 2, 2, 0, 4, 6, 1,\n",
       "       0, 3, 0, 4, 3, 2, 4, 6, 3, 0, 3, 0, 5, 2, 5, 2, 2, 0, 0, 6, 5, 3,\n",
       "       6, 4, 3, 4, 2, 2, 4, 1, 3, 2, 3, 5, 0, 6, 1, 4, 6, 0, 5, 2, 0, 3,\n",
       "       4, 4, 2, 3, 4, 4, 6, 1, 1, 1, 2, 4, 3, 3, 0, 6, 3, 6, 4, 5, 1, 5,\n",
       "       5, 4, 3, 6, 5, 6, 4, 1, 5, 3, 2, 3, 6, 4, 0, 5, 4, 4, 5, 5, 4, 4,\n",
       "       6, 3, 0, 0, 3, 1, 4, 6, 3, 1, 6, 2, 5, 4, 2, 4, 3, 5, 5, 0, 3, 4,\n",
       "       4, 5, 3, 3, 0, 4, 5, 6, 2, 2, 6, 3, 4, 4, 3, 5, 2, 6, 5, 5, 1, 0,\n",
       "       0, 2, 3, 3, 0, 4, 5, 1, 0, 5, 4, 4, 2, 6, 2, 1, 6, 5, 4, 2, 0, 3,\n",
       "       2, 2, 1, 4, 1, 1, 5, 6, 1, 2, 0, 6, 2, 0, 0, 2, 4, 2, 0, 1, 5, 2,\n",
       "       6, 1, 6, 4, 2, 0, 4, 4, 6, 2, 3, 3, 3, 6, 3, 3, 1, 0, 1, 1, 0, 5,\n",
       "       4, 2, 3, 5, 3, 4, 5, 0, 1, 2, 6, 0, 0, 6, 3, 3, 4, 2, 0, 6, 5, 3,\n",
       "       2, 6, 3, 6, 4, 5, 4, 5, 0, 6, 1, 2, 4, 2, 0, 0, 0, 2, 2, 2, 0, 2,\n",
       "       1, 0, 2, 4, 5, 4, 3, 1, 6, 1, 6, 0, 0, 6, 1, 2, 5, 4, 2, 6, 2, 2,\n",
       "       0, 6, 6, 2, 2, 6, 4, 2, 4, 1, 5, 4, 6, 5, 0, 3, 0, 3, 5, 3, 0, 3,\n",
       "       1, 0, 0, 0, 0, 0, 4, 0, 0, 3, 6, 5, 3, 2, 2, 0, 4, 3, 5, 0, 2, 4,\n",
       "       3, 4, 0, 6, 2, 0, 3, 4, 0, 4, 5, 2, 4, 2, 0, 6, 5, 5, 5, 4, 2, 1,\n",
       "       3, 3, 4, 2, 4, 3, 5, 6, 4, 3, 5, 3, 4, 6, 5, 0, 6, 4, 6, 5, 2, 6,\n",
       "       6, 5, 5, 3, 5], dtype=int8)"
      ]
     },
     "execution_count": 63,
     "metadata": {},
     "output_type": "execute_result"
    }
   ],
   "source": [
    "#Predicting\n",
    "yhat = neigh.predict(x_test)\n",
    "yhat\n",
    "#yhat shows the numbers of obesity levels that model predicted.\n",
    "#These are the obesity level and their code number: 0-Insufficient_Weight, 1- Normal_Weight, 2- Obesity_Type_I, 3-Obesity_Type_II, 4-Obesity_Type_III, 5-Overweight_Level_I, 6-Overweight_Level_II."
   ]
  },
  {
   "cell_type": "code",
   "execution_count": 64,
   "metadata": {},
   "outputs": [
    {
     "name": "stdout",
     "output_type": "stream",
     "text": [
      "Train set Accuracy:  0.9235781990521327\n",
      "Test set Accuracy:  0.8888888888888888\n"
     ]
    }
   ],
   "source": [
    "#Accuracy evaluation\n",
    "from sklearn import metrics\n",
    "print(\"Train set Accuracy: \", metrics.accuracy_score(y_train, neigh.predict(x_train)))\n",
    "print(\"Test set Accuracy: \", metrics.accuracy_score(y_test, yhat))"
   ]
  },
  {
   "cell_type": "code",
   "execution_count": null,
   "metadata": {},
   "outputs": [],
   "source": [
    "# when K=4  Train set Accuracy evaluation is 0.923 and Test set Accuracy is 0.888"
   ]
  },
  {
   "cell_type": "code",
   "execution_count": 65,
   "metadata": {},
   "outputs": [
    {
     "name": "stdout",
     "output_type": "stream",
     "text": [
      "[[52  0  0  0  0  0  0]\n",
      " [13 33  0  0  0  8  4]\n",
      " [ 0  0 60  1  1  0  0]\n",
      " [ 0  0  2 64  1  0  0]\n",
      " [ 0  0  0  2 67  0  0]\n",
      " [ 0  3  1  0  0 43  2]\n",
      " [ 0  0  3  1  0  5 57]]\n"
     ]
    },
    {
     "name": "stderr",
     "output_type": "stream",
     "text": [
      "/opt/conda/envs/Python-3.7-main/lib/python3.7/site-packages/sklearn/utils/validation.py:71: FutureWarning: Pass labels=[0, 1, 2, 3, 4, 5, 6] as keyword args. From version 0.25 passing these as positional arguments will result in an error\n",
      "  FutureWarning)\n"
     ]
    }
   ],
   "source": [
    "#Confusion matrix is another handy evaluation of model\n",
    "from sklearn.metrics import confusion_matrix\n",
    "labels=[0,1,2,3,4,5,6]\n",
    "cm=confusion_matrix(y_test,yhat,labels)\n",
    "print(cm)"
   ]
  },
  {
   "cell_type": "code",
   "execution_count": null,
   "metadata": {},
   "outputs": [],
   "source": [
    "#The Confusion matrix shows that in row one the model predicted 52 right. In row two the model predicted 33 right and so on."
   ]
  },
  {
   "cell_type": "code",
   "execution_count": 66,
   "metadata": {},
   "outputs": [
    {
     "data": {
      "text/plain": [
       "KNeighborsClassifier(n_neighbors=2)"
      ]
     },
     "execution_count": 66,
     "metadata": {},
     "output_type": "execute_result"
    }
   ],
   "source": [
    "#Let's change K value, we will decrease it by 2 \n",
    "#K nearest neighbor (K-NN) based classifier\n",
    "from sklearn.neighbors import KNeighborsClassifier\n",
    "k = 2\n",
    "\n",
    "#Train Model and Predict  \n",
    "neigh1 = KNeighborsClassifier(n_neighbors = k).fit(x_train,y_train)\n",
    "neigh1"
   ]
  },
  {
   "cell_type": "code",
   "execution_count": 75,
   "metadata": {},
   "outputs": [
    {
     "data": {
      "text/plain": [
       "array([5, 3, 1, 6, 0, 0, 2, 6, 4, 6, 3, 6, 2, 0, 2, 3, 6, 4, 5, 4, 0, 0,\n",
       "       3, 3, 5, 2, 4, 5, 6, 5, 1, 6, 2, 3, 3, 4, 6, 1, 6, 6, 4, 1, 6, 5,\n",
       "       3, 2, 0, 0, 3, 6, 3, 3, 3, 2, 6, 4, 3, 2, 6, 1, 2, 2, 0, 4, 6, 1,\n",
       "       0, 3, 0, 4, 3, 2, 4, 6, 3, 0, 3, 0, 5, 2, 5, 2, 2, 0, 0, 6, 5, 3,\n",
       "       6, 4, 3, 4, 2, 2, 4, 1, 3, 2, 3, 5, 0, 6, 1, 4, 6, 0, 5, 2, 0, 3,\n",
       "       4, 4, 2, 3, 4, 4, 6, 1, 1, 1, 2, 4, 3, 3, 0, 6, 3, 6, 4, 5, 1, 5,\n",
       "       5, 4, 3, 6, 5, 6, 4, 1, 5, 3, 2, 3, 6, 4, 0, 5, 4, 4, 5, 5, 4, 4,\n",
       "       6, 3, 0, 0, 3, 1, 4, 6, 3, 1, 6, 2, 5, 4, 2, 4, 3, 5, 5, 0, 3, 4,\n",
       "       4, 5, 3, 3, 0, 4, 5, 6, 2, 2, 6, 3, 4, 4, 3, 5, 2, 6, 5, 5, 1, 0,\n",
       "       0, 2, 3, 3, 0, 4, 5, 1, 0, 5, 4, 4, 2, 6, 2, 1, 6, 5, 4, 2, 0, 3,\n",
       "       2, 2, 1, 4, 1, 1, 5, 6, 1, 2, 0, 6, 2, 0, 0, 2, 4, 2, 0, 1, 5, 2,\n",
       "       6, 1, 6, 4, 2, 0, 4, 4, 6, 2, 3, 3, 3, 6, 3, 3, 1, 0, 1, 1, 0, 5,\n",
       "       4, 2, 3, 5, 3, 4, 5, 0, 1, 2, 6, 0, 0, 6, 3, 3, 4, 2, 0, 6, 5, 3,\n",
       "       2, 6, 3, 6, 4, 5, 4, 5, 0, 6, 1, 2, 4, 2, 0, 0, 0, 2, 2, 2, 0, 2,\n",
       "       1, 0, 2, 4, 5, 4, 3, 1, 6, 1, 6, 0, 0, 6, 1, 2, 5, 4, 2, 6, 2, 2,\n",
       "       0, 6, 6, 2, 2, 6, 4, 2, 4, 1, 5, 4, 6, 5, 0, 3, 0, 3, 5, 3, 0, 3,\n",
       "       1, 0, 0, 0, 0, 0, 4, 0, 0, 3, 6, 5, 3, 2, 2, 0, 4, 3, 5, 0, 2, 4,\n",
       "       3, 4, 0, 6, 2, 0, 3, 4, 0, 4, 5, 2, 4, 2, 0, 6, 5, 5, 5, 4, 2, 1,\n",
       "       3, 3, 4, 2, 4, 3, 5, 6, 4, 3, 5, 3, 4, 6, 5, 0, 6, 4, 6, 5, 2, 6,\n",
       "       6, 5, 5, 3, 5], dtype=int8)"
      ]
     },
     "execution_count": 75,
     "metadata": {},
     "output_type": "execute_result"
    }
   ],
   "source": [
    "#Predicting\n",
    "yhat1 = neigh.predict(x_test)\n",
    "yhat1\n",
    "\n",
    "#yhat1 shows the numbers of obesity levels that model predicted.\n",
    "#These are the obesity level and their code number: 0-Insufficient_Weight, 1- Normal_Weight, 2- Obesity_Type_I, 3-Obesity_Type_II, 4-Obesity_Type_III, 5-Overweight_Level_I, 6-Overweight_Level_II."
   ]
  },
  {
   "cell_type": "code",
   "execution_count": 76,
   "metadata": {},
   "outputs": [
    {
     "name": "stdout",
     "output_type": "stream",
     "text": [
      "Train set Accuracy:  0.9597156398104265\n",
      "Test set Accuracy:  0.8888888888888888\n"
     ]
    }
   ],
   "source": [
    "from sklearn import metrics\n",
    "print(\"Train set Accuracy: \", metrics.accuracy_score(y_train, neigh1.predict(x_train)))\n",
    "print(\"Test set Accuracy: \", metrics.accuracy_score(y_test, yhat1))"
   ]
  },
  {
   "cell_type": "code",
   "execution_count": 77,
   "metadata": {},
   "outputs": [],
   "source": [
    "#Test set Accuracy is still the same but Train set Accuracy have increased by about 0.036 (from 0.9235781990521327 to 0.9597156398104265)"
   ]
  },
  {
   "cell_type": "code",
   "execution_count": 78,
   "metadata": {},
   "outputs": [
    {
     "name": "stdout",
     "output_type": "stream",
     "text": [
      "[[52  0  0  0  0  0  0]\n",
      " [13 33  0  0  0  8  4]\n",
      " [ 0  0 60  1  1  0  0]\n",
      " [ 0  0  2 64  1  0  0]\n",
      " [ 0  0  0  2 67  0  0]\n",
      " [ 0  3  1  0  0 43  2]\n",
      " [ 0  0  3  1  0  5 57]]\n"
     ]
    },
    {
     "name": "stderr",
     "output_type": "stream",
     "text": [
      "/opt/conda/envs/Python-3.7-main/lib/python3.7/site-packages/sklearn/utils/validation.py:71: FutureWarning: Pass labels=[0, 1, 2, 3, 4, 5, 6] as keyword args. From version 0.25 passing these as positional arguments will result in an error\n",
      "  FutureWarning)\n"
     ]
    }
   ],
   "source": [
    "#Confusion matrix is another handy evaluation of model\n",
    "from sklearn.metrics import confusion_matrix\n",
    "labels=[0,1,2,3,4,5,6]\n",
    "cm=confusion_matrix(y_test,yhat1,labels)\n",
    "print(cm)\n"
   ]
  },
  {
   "cell_type": "code",
   "execution_count": null,
   "metadata": {},
   "outputs": [],
   "source": [
    "#The Confusion matrix shows that in row one the model predicted 52 right. In row two the model predicted 33 right and so on.\n",
    "\n",
    "#This is the same matrix when K= 4"
   ]
  },
  {
   "cell_type": "code",
   "execution_count": 71,
   "metadata": {},
   "outputs": [
    {
     "data": {
      "text/plain": [
       "KNeighborsClassifier(n_neighbors=6)"
      ]
     },
     "execution_count": 71,
     "metadata": {},
     "output_type": "execute_result"
    }
   ],
   "source": [
    "#Let's change K value and increase it by 2\n",
    "#K nearest neighbor (K-NN) based classifier\n",
    "from sklearn.neighbors import KNeighborsClassifier\n",
    "k = 6\n",
    "\n",
    "#Train Model and Predict  \n",
    "neigh2 = KNeighborsClassifier(n_neighbors = k).fit(x_train,y_train)\n",
    "neigh2"
   ]
  },
  {
   "cell_type": "code",
   "execution_count": 72,
   "metadata": {},
   "outputs": [
    {
     "data": {
      "text/plain": [
       "array([5, 3, 1, 6, 0, 0, 2, 6, 4, 6, 3, 6, 2, 0, 2, 3, 6, 4, 5, 4, 0, 0,\n",
       "       3, 3, 5, 2, 4, 5, 6, 5, 1, 6, 2, 3, 3, 4, 6, 1, 6, 6, 4, 1, 6, 5,\n",
       "       3, 2, 0, 0, 3, 6, 3, 3, 3, 2, 6, 4, 3, 2, 6, 1, 2, 2, 0, 4, 6, 1,\n",
       "       0, 3, 0, 4, 3, 2, 4, 6, 3, 0, 3, 0, 5, 2, 5, 2, 2, 0, 0, 6, 5, 3,\n",
       "       6, 4, 3, 4, 2, 2, 4, 1, 3, 2, 3, 5, 0, 6, 1, 4, 6, 0, 5, 2, 0, 3,\n",
       "       4, 4, 2, 3, 4, 4, 6, 1, 1, 1, 2, 4, 3, 3, 0, 6, 3, 6, 4, 5, 1, 5,\n",
       "       5, 4, 3, 6, 5, 6, 4, 1, 5, 3, 2, 3, 6, 4, 0, 5, 4, 4, 5, 5, 4, 4,\n",
       "       6, 3, 0, 0, 3, 1, 4, 6, 3, 1, 6, 2, 5, 4, 2, 4, 3, 5, 5, 0, 3, 4,\n",
       "       4, 5, 3, 3, 0, 4, 5, 6, 2, 2, 6, 3, 4, 4, 3, 5, 2, 6, 5, 5, 1, 0,\n",
       "       0, 2, 3, 3, 0, 4, 5, 1, 0, 5, 4, 4, 2, 6, 2, 1, 6, 5, 4, 2, 0, 3,\n",
       "       2, 2, 1, 4, 1, 1, 5, 6, 1, 2, 0, 6, 2, 0, 0, 2, 4, 2, 0, 1, 5, 2,\n",
       "       6, 1, 6, 4, 2, 0, 4, 4, 6, 2, 3, 3, 3, 6, 3, 3, 1, 0, 1, 1, 0, 5,\n",
       "       4, 2, 3, 5, 3, 4, 5, 0, 1, 2, 6, 0, 0, 6, 3, 3, 4, 2, 0, 6, 5, 3,\n",
       "       2, 6, 3, 6, 4, 5, 4, 5, 0, 6, 1, 2, 4, 2, 0, 0, 0, 2, 2, 2, 0, 2,\n",
       "       1, 0, 2, 4, 5, 4, 3, 1, 6, 1, 6, 0, 0, 6, 1, 2, 5, 4, 2, 6, 2, 2,\n",
       "       0, 6, 6, 2, 2, 6, 4, 2, 4, 1, 5, 4, 6, 5, 0, 3, 0, 3, 5, 3, 0, 3,\n",
       "       1, 0, 0, 0, 0, 0, 4, 0, 0, 3, 6, 5, 3, 2, 2, 0, 4, 3, 5, 0, 2, 4,\n",
       "       3, 4, 0, 6, 2, 0, 3, 4, 0, 4, 5, 2, 4, 2, 0, 6, 5, 5, 5, 4, 2, 1,\n",
       "       3, 3, 4, 2, 4, 3, 5, 6, 4, 3, 5, 3, 4, 6, 5, 0, 6, 4, 6, 5, 2, 6,\n",
       "       6, 5, 5, 3, 5], dtype=int8)"
      ]
     },
     "execution_count": 72,
     "metadata": {},
     "output_type": "execute_result"
    }
   ],
   "source": [
    "#Predicting\n",
    "yhat2 = neigh.predict(x_test)\n",
    "yhat2\n",
    "#yhat2 shows the numbers of obesity levels that model predicted.\n",
    "#These are the obesity level and their code number: 0-Insufficient_Weight, 1- Normal_Weight, 2- Obesity_Type_I, 3-Obesity_Type_II, 4-Obesity_Type_III, 5-Overweight_Level_I, 6-Overweight_Level_II."
   ]
  },
  {
   "cell_type": "code",
   "execution_count": 73,
   "metadata": {},
   "outputs": [
    {
     "name": "stdout",
     "output_type": "stream",
     "text": [
      "Train set Accuracy:  0.8992890995260664\n",
      "Test set Accuracy:  0.8888888888888888\n"
     ]
    }
   ],
   "source": [
    "from sklearn import metrics\n",
    "print(\"Train set Accuracy: \", metrics.accuracy_score(y_train, neigh2.predict(x_train)))\n",
    "print(\"Test set Accuracy: \", metrics.accuracy_score(y_test, yhat2))"
   ]
  },
  {
   "cell_type": "code",
   "execution_count": 74,
   "metadata": {},
   "outputs": [],
   "source": [
    "#Test set Accuracy is still the same but Train set Accuracy have decreased by about 0.024 ( from 0.9235781990521327 to  0.8992890995260664)"
   ]
  },
  {
   "cell_type": "code",
   "execution_count": null,
   "metadata": {},
   "outputs": [],
   "source": [
    "#- The model made with the highest accuracy label was trained with the tree based algorithm. - Our model is able to predict obesity levels based on eating habits and physical conditions with an accuracy of 94%"
   ]
  }
 ],
 "metadata": {
  "kernelspec": {
   "display_name": "Python 3.7",
   "language": "python",
   "name": "python3"
  },
  "language_info": {
   "codemirror_mode": {
    "name": "ipython",
    "version": 3
   },
   "file_extension": ".py",
   "mimetype": "text/x-python",
   "name": "python",
   "nbconvert_exporter": "python",
   "pygments_lexer": "ipython3",
   "version": "3.7.9"
  }
 },
 "nbformat": 4,
 "nbformat_minor": 4
}
